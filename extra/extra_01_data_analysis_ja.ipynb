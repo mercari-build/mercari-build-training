{
  "cells": [
    {
      "cell_type": "markdown",
      "metadata": {
        "collapsed": false,
        "id": "iniG2E_tH7Uj"
      },
      "source": [
        "# Extra1 データ分析"
      ],
      "id": "iniG2E_tH7Uj"
    },
    {
      "cell_type": "code",
      "execution_count": null,
      "metadata": {
        "ExecuteTime": {
          "end_time": "2024-01-30T09:43:30.499336Z",
          "start_time": "2024-01-30T09:43:27.405571Z"
        },
        "colab": {
          "base_uri": "https://localhost:8080/"
        },
        "id": "na_SKN3vH7Um",
        "outputId": "fcf1912d-f7bf-4d0d-a62e-7a6a6bc80999"
      },
      "outputs": [
        {
          "output_type": "stream",
          "name": "stdout",
          "text": [
            "Requirement already satisfied: matplotlib in /usr/local/lib/python3.11/dist-packages (3.10.0)\n",
            "Requirement already satisfied: contourpy>=1.0.1 in /usr/local/lib/python3.11/dist-packages (from matplotlib) (1.3.1)\n",
            "Requirement already satisfied: cycler>=0.10 in /usr/local/lib/python3.11/dist-packages (from matplotlib) (0.12.1)\n",
            "Requirement already satisfied: fonttools>=4.22.0 in /usr/local/lib/python3.11/dist-packages (from matplotlib) (4.56.0)\n",
            "Requirement already satisfied: kiwisolver>=1.3.1 in /usr/local/lib/python3.11/dist-packages (from matplotlib) (1.4.8)\n",
            "Requirement already satisfied: numpy>=1.23 in /usr/local/lib/python3.11/dist-packages (from matplotlib) (1.26.4)\n",
            "Requirement already satisfied: packaging>=20.0 in /usr/local/lib/python3.11/dist-packages (from matplotlib) (24.2)\n",
            "Requirement already satisfied: pillow>=8 in /usr/local/lib/python3.11/dist-packages (from matplotlib) (11.1.0)\n",
            "Requirement already satisfied: pyparsing>=2.3.1 in /usr/local/lib/python3.11/dist-packages (from matplotlib) (3.2.1)\n",
            "Requirement already satisfied: python-dateutil>=2.7 in /usr/local/lib/python3.11/dist-packages (from matplotlib) (2.8.2)\n",
            "Requirement already satisfied: six>=1.5 in /usr/local/lib/python3.11/dist-packages (from python-dateutil>=2.7->matplotlib) (1.17.0)\n",
            "Requirement already satisfied: pandas in /usr/local/lib/python3.11/dist-packages (2.2.2)\n",
            "Requirement already satisfied: numpy>=1.23.2 in /usr/local/lib/python3.11/dist-packages (from pandas) (1.26.4)\n",
            "Requirement already satisfied: python-dateutil>=2.8.2 in /usr/local/lib/python3.11/dist-packages (from pandas) (2.8.2)\n",
            "Requirement already satisfied: pytz>=2020.1 in /usr/local/lib/python3.11/dist-packages (from pandas) (2025.1)\n",
            "Requirement already satisfied: tzdata>=2022.7 in /usr/local/lib/python3.11/dist-packages (from pandas) (2025.1)\n",
            "Requirement already satisfied: six>=1.5 in /usr/local/lib/python3.11/dist-packages (from python-dateutil>=2.8.2->pandas) (1.17.0)\n",
            "Requirement already satisfied: scikit-learn in /usr/local/lib/python3.11/dist-packages (1.6.1)\n",
            "Requirement already satisfied: numpy>=1.19.5 in /usr/local/lib/python3.11/dist-packages (from scikit-learn) (1.26.4)\n",
            "Requirement already satisfied: scipy>=1.6.0 in /usr/local/lib/python3.11/dist-packages (from scikit-learn) (1.14.1)\n",
            "Requirement already satisfied: joblib>=1.2.0 in /usr/local/lib/python3.11/dist-packages (from scikit-learn) (1.4.2)\n",
            "Requirement already satisfied: threadpoolctl>=3.1.0 in /usr/local/lib/python3.11/dist-packages (from scikit-learn) (3.5.0)\n",
            "Requirement already satisfied: seaborn in /usr/local/lib/python3.11/dist-packages (0.13.2)\n",
            "Requirement already satisfied: numpy!=1.24.0,>=1.20 in /usr/local/lib/python3.11/dist-packages (from seaborn) (1.26.4)\n",
            "Requirement already satisfied: pandas>=1.2 in /usr/local/lib/python3.11/dist-packages (from seaborn) (2.2.2)\n",
            "Requirement already satisfied: matplotlib!=3.6.1,>=3.4 in /usr/local/lib/python3.11/dist-packages (from seaborn) (3.10.0)\n",
            "Requirement already satisfied: contourpy>=1.0.1 in /usr/local/lib/python3.11/dist-packages (from matplotlib!=3.6.1,>=3.4->seaborn) (1.3.1)\n",
            "Requirement already satisfied: cycler>=0.10 in /usr/local/lib/python3.11/dist-packages (from matplotlib!=3.6.1,>=3.4->seaborn) (0.12.1)\n",
            "Requirement already satisfied: fonttools>=4.22.0 in /usr/local/lib/python3.11/dist-packages (from matplotlib!=3.6.1,>=3.4->seaborn) (4.56.0)\n",
            "Requirement already satisfied: kiwisolver>=1.3.1 in /usr/local/lib/python3.11/dist-packages (from matplotlib!=3.6.1,>=3.4->seaborn) (1.4.8)\n",
            "Requirement already satisfied: packaging>=20.0 in /usr/local/lib/python3.11/dist-packages (from matplotlib!=3.6.1,>=3.4->seaborn) (24.2)\n",
            "Requirement already satisfied: pillow>=8 in /usr/local/lib/python3.11/dist-packages (from matplotlib!=3.6.1,>=3.4->seaborn) (11.1.0)\n",
            "Requirement already satisfied: pyparsing>=2.3.1 in /usr/local/lib/python3.11/dist-packages (from matplotlib!=3.6.1,>=3.4->seaborn) (3.2.1)\n",
            "Requirement already satisfied: python-dateutil>=2.7 in /usr/local/lib/python3.11/dist-packages (from matplotlib!=3.6.1,>=3.4->seaborn) (2.8.2)\n",
            "Requirement already satisfied: pytz>=2020.1 in /usr/local/lib/python3.11/dist-packages (from pandas>=1.2->seaborn) (2025.1)\n",
            "Requirement already satisfied: tzdata>=2022.7 in /usr/local/lib/python3.11/dist-packages (from pandas>=1.2->seaborn) (2025.1)\n",
            "Requirement already satisfied: six>=1.5 in /usr/local/lib/python3.11/dist-packages (from python-dateutil>=2.7->matplotlib!=3.6.1,>=3.4->seaborn) (1.17.0)\n"
          ]
        }
      ],
      "source": [
        "# 演習に必要なライブラリのインストール\n",
        "!pip install matplotlib\n",
        "!pip install pandas\n",
        "!pip install scikit-learn\n",
        "!pip install seaborn\n",
        "\n",
        "import pprint\n",
        "from matplotlib import pyplot as plt\n",
        "%matplotlib inline\n",
        "import pandas as pd\n",
        "import seaborn as sns\n",
        "from sklearn import datasets"
      ],
      "id": "na_SKN3vH7Um"
    },
    {
      "cell_type": "markdown",
      "metadata": {
        "collapsed": false,
        "id": "3Q-5-Ok9H7Un"
      },
      "source": [
        "## 問題1 データ読み込み\n",
        "\n",
        "今回の演習では UCI Machine Learning Repository が提供している Wine のデータセットを使用します。[Ref](https://archive.ics.uci.edu/dataset/109/wine)\n",
        "このデータセットはイタリアの同じ地域で栽培され、3つの異なる品種に由来するワインの化学分析の結果です。\n",
        "\n",
        "なおデータ定義は以下の通りです。"
      ],
      "id": "3Q-5-Ok9H7Un"
    },
    {
      "cell_type": "markdown",
      "metadata": {
        "collapsed": false,
        "id": "fXyohk03H7Un"
      },
      "source": [
        "### target\n",
        "\n",
        "| 変数名    | 定義     |\n",
        "|--------|--------|\n",
        "| target | ワインの種類 |"
      ],
      "id": "fXyohk03H7Un"
    },
    {
      "cell_type": "markdown",
      "metadata": {
        "collapsed": false,
        "id": "pk4i_sJrH7Un"
      },
      "source": [
        "### feature_names\n",
        "\n",
        "| 変数名                          | 定義                            |\n",
        "|------------------------------|-------------------------------|\n",
        "| alcohol                      | アルコール濃度                       |\n",
        "| malic_acid                   | リンゴ酸濃度                        |\n",
        "| ash                          | 灰分濃度                          |\n",
        "| alcalinity_of_ash            | 灰のアルカリ性                       |\n",
        "| magnesium                    | マグネシウム量                       |\n",
        "| total_phenol                 | フェノール量                        |\n",
        "| flavanoids                   | フラバノイド量                       |\n",
        "| nonflavanoid_phenols         | 非フラバノイドフェノール類の量               |\n",
        "| proanthocyanins              | プロアントシアニン                     |\n",
        "| color_intensity              | 色の強度                          |\n",
        "| hue                          | 色調                            |\n",
        "| od280/OD315_of_diluted wines | 薄めたワインの280nmと315nmの波長の光に対する濁度 |\n",
        "| proline                      | プロリン量                         |\n",
        "\n",
        "ワインの味と成分についての[参考資料](https://www.jstage.jst.go.jp/article/jbrewsocjapan1915/75/8/75_8_631/_pdf/-char/ja)"
      ],
      "id": "pk4i_sJrH7Un"
    },
    {
      "cell_type": "markdown",
      "metadata": {
        "collapsed": false,
        "id": "t0amSizcH7Uo"
      },
      "source": [
        "### Wine データセットの読み込み\n",
        "\n",
        "Wine データセットは上で `import` した `sklearn.datasets` に格納されています。\n",
        "`sklearn.datasets` からデータセットを読み込むには次のコードを実行します。[Ref](https://scikit-learn.org/stable/modules/generated/sklearn.datasets.load_wine.html)"
      ],
      "id": "t0amSizcH7Uo"
    },
    {
      "cell_type": "code",
      "execution_count": 66,
      "metadata": {
        "ExecuteTime": {
          "end_time": "2024-01-30T09:43:30.506148Z",
          "start_time": "2024-01-30T09:43:30.500653Z"
        },
        "id": "uNmpeVxQH7Uo"
      },
      "outputs": [],
      "source": [
        "wine_data = datasets.load_wine()"
      ],
      "id": "uNmpeVxQH7Uo"
    },
    {
      "cell_type": "markdown",
      "metadata": {
        "collapsed": false,
        "id": "mlFcPvYXH7Uo"
      },
      "source": [
        "実際に読み込んだデータの中身を見ていきましょう。\n",
        "`Python` の標準ライブラリである `pprint` モジュールを使うと、リスト型や辞書型などのオブジェクトを、整形してきれいに表示できます。[Ref](https://docs.python.org/3/library/pprint.html#module-pprint)"
      ],
      "id": "mlFcPvYXH7Uo"
    },
    {
      "cell_type": "code",
      "execution_count": 67,
      "metadata": {
        "ExecuteTime": {
          "end_time": "2024-01-30T09:43:30.511681Z",
          "start_time": "2024-01-30T09:43:30.506661Z"
        },
        "colab": {
          "base_uri": "https://localhost:8080/"
        },
        "id": "ZyrLCX-rH7Up",
        "outputId": "dfb7c6bd-73fc-41a2-81dd-ccd08d9ba3c3"
      },
      "outputs": [
        {
          "output_type": "stream",
          "name": "stdout",
          "text": [
            "{'DESCR': '.. _wine_dataset:\\n'\n",
            "          '\\n'\n",
            "          'Wine recognition dataset\\n'\n",
            "          '------------------------\\n'\n",
            "          '\\n'\n",
            "          '**Data Set Characteristics:**\\n'\n",
            "          '\\n'\n",
            "          ':Number of Instances: 178\\n'\n",
            "          ':Number of Attributes: 13 numeric, predictive attributes and the '\n",
            "          'class\\n'\n",
            "          ':Attribute Information:\\n'\n",
            "          '    - Alcohol\\n'\n",
            "          '    - Malic acid\\n'\n",
            "          '    - Ash\\n'\n",
            "          '    - Alcalinity of ash\\n'\n",
            "          '    - Magnesium\\n'\n",
            "          '    - Total phenols\\n'\n",
            "          '    - Flavanoids\\n'\n",
            "          '    - Nonflavanoid phenols\\n'\n",
            "          '    - Proanthocyanins\\n'\n",
            "          '    - Color intensity\\n'\n",
            "          '    - Hue\\n'\n",
            "          '    - OD280/OD315 of diluted wines\\n'\n",
            "          '    - Proline\\n'\n",
            "          '    - class:\\n'\n",
            "          '        - class_0\\n'\n",
            "          '        - class_1\\n'\n",
            "          '        - class_2\\n'\n",
            "          '\\n'\n",
            "          ':Summary Statistics:\\n'\n",
            "          '\\n'\n",
            "          '============================= ==== ===== ======= =====\\n'\n",
            "          '                                Min   Max   Mean     SD\\n'\n",
            "          '============================= ==== ===== ======= =====\\n'\n",
            "          'Alcohol:                      11.0  14.8    13.0   0.8\\n'\n",
            "          'Malic Acid:                   0.74  5.80    2.34  1.12\\n'\n",
            "          'Ash:                          1.36  3.23    2.36  0.27\\n'\n",
            "          'Alcalinity of Ash:            10.6  30.0    19.5   3.3\\n'\n",
            "          'Magnesium:                    70.0 162.0    99.7  14.3\\n'\n",
            "          'Total Phenols:                0.98  3.88    2.29  0.63\\n'\n",
            "          'Flavanoids:                   0.34  5.08    2.03  1.00\\n'\n",
            "          'Nonflavanoid Phenols:         0.13  0.66    0.36  0.12\\n'\n",
            "          'Proanthocyanins:              0.41  3.58    1.59  0.57\\n'\n",
            "          'Colour Intensity:              1.3  13.0     5.1   2.3\\n'\n",
            "          'Hue:                          0.48  1.71    0.96  0.23\\n'\n",
            "          'OD280/OD315 of diluted wines: 1.27  4.00    2.61  0.71\\n'\n",
            "          'Proline:                       278  1680     746   315\\n'\n",
            "          '============================= ==== ===== ======= =====\\n'\n",
            "          '\\n'\n",
            "          ':Missing Attribute Values: None\\n'\n",
            "          ':Class Distribution: class_0 (59), class_1 (71), class_2 (48)\\n'\n",
            "          ':Creator: R.A. Fisher\\n'\n",
            "          ':Donor: Michael Marshall (MARSHALL%PLU@io.arc.nasa.gov)\\n'\n",
            "          ':Date: July, 1988\\n'\n",
            "          '\\n'\n",
            "          'This is a copy of UCI ML Wine recognition datasets.\\n'\n",
            "          'https://archive.ics.uci.edu/ml/machine-learning-databases/wine/wine.data\\n'\n",
            "          '\\n'\n",
            "          'The data is the results of a chemical analysis of wines grown in '\n",
            "          'the same\\n'\n",
            "          'region in Italy by three different cultivators. There are thirteen '\n",
            "          'different\\n'\n",
            "          'measurements taken for different constituents found in the three '\n",
            "          'types of\\n'\n",
            "          'wine.\\n'\n",
            "          '\\n'\n",
            "          'Original Owners:\\n'\n",
            "          '\\n'\n",
            "          'Forina, M. et al, PARVUS -\\n'\n",
            "          'An Extendible Package for Data Exploration, Classification and '\n",
            "          'Correlation.\\n'\n",
            "          'Institute of Pharmaceutical and Food Analysis and Technologies,\\n'\n",
            "          'Via Brigata Salerno, 16147 Genoa, Italy.\\n'\n",
            "          '\\n'\n",
            "          'Citation:\\n'\n",
            "          '\\n'\n",
            "          'Lichman, M. (2013). UCI Machine Learning Repository\\n'\n",
            "          '[https://archive.ics.uci.edu/ml]. Irvine, CA: University of '\n",
            "          'California,\\n'\n",
            "          'School of Information and Computer Science.\\n'\n",
            "          '\\n'\n",
            "          '.. dropdown:: References\\n'\n",
            "          '\\n'\n",
            "          '    (1) S. Aeberhard, D. Coomans and O. de Vel,\\n'\n",
            "          '    Comparison of Classifiers in High Dimensional Settings,\\n'\n",
            "          '    Tech. Rep. no. 92-02, (1992), Dept. of Computer Science and '\n",
            "          'Dept. of\\n'\n",
            "          '    Mathematics and Statistics, James Cook University of North '\n",
            "          'Queensland.\\n'\n",
            "          '    (Also submitted to Technometrics).\\n'\n",
            "          '\\n'\n",
            "          '    The data was used with many others for comparing various\\n'\n",
            "          '    classifiers. The classes are separable, though only RDA\\n'\n",
            "          '    has achieved 100% correct classification.\\n'\n",
            "          '    (RDA : 100%, QDA 99.4%, LDA 98.9%, 1NN 96.1% (z-transformed '\n",
            "          'data))\\n'\n",
            "          '    (All results using the leave-one-out technique)\\n'\n",
            "          '\\n'\n",
            "          '    (2) S. Aeberhard, D. Coomans and O. de Vel,\\n'\n",
            "          '    \"THE CLASSIFICATION PERFORMANCE OF RDA\"\\n'\n",
            "          '    Tech. Rep. no. 92-01, (1992), Dept. of Computer Science and '\n",
            "          'Dept. of\\n'\n",
            "          '    Mathematics and Statistics, James Cook University of North '\n",
            "          'Queensland.\\n'\n",
            "          '    (Also submitted to Journal of Chemometrics).\\n',\n",
            " 'data': array([[1.423e+01, 1.710e+00, 2.430e+00, ..., 1.040e+00, 3.920e+00,\n",
            "        1.065e+03],\n",
            "       [1.320e+01, 1.780e+00, 2.140e+00, ..., 1.050e+00, 3.400e+00,\n",
            "        1.050e+03],\n",
            "       [1.316e+01, 2.360e+00, 2.670e+00, ..., 1.030e+00, 3.170e+00,\n",
            "        1.185e+03],\n",
            "       ...,\n",
            "       [1.327e+01, 4.280e+00, 2.260e+00, ..., 5.900e-01, 1.560e+00,\n",
            "        8.350e+02],\n",
            "       [1.317e+01, 2.590e+00, 2.370e+00, ..., 6.000e-01, 1.620e+00,\n",
            "        8.400e+02],\n",
            "       [1.413e+01, 4.100e+00, 2.740e+00, ..., 6.100e-01, 1.600e+00,\n",
            "        5.600e+02]]),\n",
            " 'feature_names': ['alcohol',\n",
            "                   'malic_acid',\n",
            "                   'ash',\n",
            "                   'alcalinity_of_ash',\n",
            "                   'magnesium',\n",
            "                   'total_phenols',\n",
            "                   'flavanoids',\n",
            "                   'nonflavanoid_phenols',\n",
            "                   'proanthocyanins',\n",
            "                   'color_intensity',\n",
            "                   'hue',\n",
            "                   'od280/od315_of_diluted_wines',\n",
            "                   'proline'],\n",
            " 'frame': None,\n",
            " 'target': array([0, 0, 0, 0, 0, 0, 0, 0, 0, 0, 0, 0, 0, 0, 0, 0, 0, 0, 0, 0, 0, 0,\n",
            "       0, 0, 0, 0, 0, 0, 0, 0, 0, 0, 0, 0, 0, 0, 0, 0, 0, 0, 0, 0, 0, 0,\n",
            "       0, 0, 0, 0, 0, 0, 0, 0, 0, 0, 0, 0, 0, 0, 0, 1, 1, 1, 1, 1, 1, 1,\n",
            "       1, 1, 1, 1, 1, 1, 1, 1, 1, 1, 1, 1, 1, 1, 1, 1, 1, 1, 1, 1, 1, 1,\n",
            "       1, 1, 1, 1, 1, 1, 1, 1, 1, 1, 1, 1, 1, 1, 1, 1, 1, 1, 1, 1, 1, 1,\n",
            "       1, 1, 1, 1, 1, 1, 1, 1, 1, 1, 1, 1, 1, 1, 1, 1, 1, 1, 1, 1, 2, 2,\n",
            "       2, 2, 2, 2, 2, 2, 2, 2, 2, 2, 2, 2, 2, 2, 2, 2, 2, 2, 2, 2, 2, 2,\n",
            "       2, 2, 2, 2, 2, 2, 2, 2, 2, 2, 2, 2, 2, 2, 2, 2, 2, 2, 2, 2, 2, 2,\n",
            "       2, 2]),\n",
            " 'target_names': array(['class_0', 'class_1', 'class_2'], dtype='<U7')}\n"
          ]
        }
      ],
      "source": [
        "pprint.pprint(wine_data)"
      ],
      "id": "ZyrLCX-rH7Up"
    },
    {
      "cell_type": "markdown",
      "metadata": {
        "collapsed": false,
        "id": "v98p6k-aH7Up"
      },
      "source": [
        "Wine データセットの詳細、data、特徴量名などが辞書型で格納されていることが分かります。"
      ],
      "id": "v98p6k-aH7Up"
    },
    {
      "cell_type": "markdown",
      "metadata": {
        "collapsed": false,
        "id": "gNCQr1tHH7Up"
      },
      "source": [
        "### 問題1-1\n",
        "\n",
        "上で読み込んだデータセット `wine_data` から `data` のみを抽出して、出力して下さい。(※ヒントは[こちら](https://docs.python.org/3/tutorial/datastructures.html#dictionaries))"
      ],
      "id": "gNCQr1tHH7Up"
    },
    {
      "cell_type": "code",
      "execution_count": 75,
      "metadata": {
        "ExecuteTime": {
          "end_time": "2024-01-30T09:43:30.516460Z",
          "start_time": "2024-01-30T09:43:30.513464Z"
        },
        "colab": {
          "base_uri": "https://localhost:8080/"
        },
        "id": "jaDVaaMuH7Up",
        "outputId": "edf48863-ef10-4597-e042-a6e061b9b5d8"
      },
      "outputs": [
        {
          "output_type": "stream",
          "name": "stdout",
          "text": [
            "array([[1.423e+01, 1.710e+00, 2.430e+00, ..., 1.040e+00, 3.920e+00,\n",
            "        1.065e+03],\n",
            "       [1.320e+01, 1.780e+00, 2.140e+00, ..., 1.050e+00, 3.400e+00,\n",
            "        1.050e+03],\n",
            "       [1.316e+01, 2.360e+00, 2.670e+00, ..., 1.030e+00, 3.170e+00,\n",
            "        1.185e+03],\n",
            "       ...,\n",
            "       [1.327e+01, 4.280e+00, 2.260e+00, ..., 5.900e-01, 1.560e+00,\n",
            "        8.350e+02],\n",
            "       [1.317e+01, 2.590e+00, 2.370e+00, ..., 6.000e-01, 1.620e+00,\n",
            "        8.400e+02],\n",
            "       [1.413e+01, 4.100e+00, 2.740e+00, ..., 6.100e-01, 1.600e+00,\n",
            "        5.600e+02]])\n"
          ]
        }
      ],
      "source": [
        "# ===== 以下に解答のコードを入力して下さい =====\n",
        "pprint.pprint(wine_data.data)"
      ],
      "id": "jaDVaaMuH7Up"
    },
    {
      "cell_type": "markdown",
      "metadata": {
        "collapsed": false,
        "id": "aiSH2Cp3H7Up"
      },
      "source": [
        "### 問題1-2\n",
        "\n",
        "問題1-1 で読み込んだデータを pandas の dataframe に変換して下さい。その際変数名は `wine_df`、カラム名は `wine_data.feature_names` を使用して下さい。(※ヒントは[こちら](https://pandas.pydata.org/docs/reference/api/pandas.DataFrame.html))"
      ],
      "id": "aiSH2Cp3H7Up"
    },
    {
      "cell_type": "code",
      "execution_count": 69,
      "metadata": {
        "ExecuteTime": {
          "end_time": "2024-01-30T09:43:30.519707Z",
          "start_time": "2024-01-30T09:43:30.517691Z"
        },
        "id": "vwGIqSDyH7Up"
      },
      "outputs": [],
      "source": [
        "# ===== 以下に解答のコードを入力して下さい =====\n",
        "wine_df = pd.DataFrame(wine_data.data, columns=wine_data.feature_names)"
      ],
      "id": "vwGIqSDyH7Up"
    },
    {
      "cell_type": "markdown",
      "metadata": {
        "collapsed": false,
        "id": "qmGuVQbLH7Up"
      },
      "source": [
        "### 問題1-3\n",
        "\n",
        "問題1-2 で変換した `wine_df` について、上から10行を Notebook 上に表示してみましょう。(※ヒントは[こちら](https://pandas.pydata.org/docs/reference/api/pandas.DataFrame.head.html))"
      ],
      "id": "qmGuVQbLH7Up"
    },
    {
      "cell_type": "code",
      "execution_count": 70,
      "metadata": {
        "ExecuteTime": {
          "end_time": "2024-01-30T09:43:30.572231Z",
          "start_time": "2024-01-30T09:43:30.528285Z"
        },
        "colab": {
          "base_uri": "https://localhost:8080/"
        },
        "id": "gjQXtmAaH7Uq",
        "outputId": "c6e35e3a-a8a6-4ed2-c3a4-06c0c7b49e9c"
      },
      "outputs": [
        {
          "output_type": "stream",
          "name": "stdout",
          "text": [
            "   alcohol  malic_acid   ash  alcalinity_of_ash  magnesium  total_phenols  \\\n",
            "0    14.23        1.71  2.43               15.6      127.0           2.80   \n",
            "1    13.20        1.78  2.14               11.2      100.0           2.65   \n",
            "2    13.16        2.36  2.67               18.6      101.0           2.80   \n",
            "3    14.37        1.95  2.50               16.8      113.0           3.85   \n",
            "4    13.24        2.59  2.87               21.0      118.0           2.80   \n",
            "5    14.20        1.76  2.45               15.2      112.0           3.27   \n",
            "6    14.39        1.87  2.45               14.6       96.0           2.50   \n",
            "7    14.06        2.15  2.61               17.6      121.0           2.60   \n",
            "8    14.83        1.64  2.17               14.0       97.0           2.80   \n",
            "9    13.86        1.35  2.27               16.0       98.0           2.98   \n",
            "\n",
            "   flavanoids  nonflavanoid_phenols  proanthocyanins  color_intensity   hue  \\\n",
            "0        3.06                  0.28             2.29             5.64  1.04   \n",
            "1        2.76                  0.26             1.28             4.38  1.05   \n",
            "2        3.24                  0.30             2.81             5.68  1.03   \n",
            "3        3.49                  0.24             2.18             7.80  0.86   \n",
            "4        2.69                  0.39             1.82             4.32  1.04   \n",
            "5        3.39                  0.34             1.97             6.75  1.05   \n",
            "6        2.52                  0.30             1.98             5.25  1.02   \n",
            "7        2.51                  0.31             1.25             5.05  1.06   \n",
            "8        2.98                  0.29             1.98             5.20  1.08   \n",
            "9        3.15                  0.22             1.85             7.22  1.01   \n",
            "\n",
            "   od280/od315_of_diluted_wines  proline  \n",
            "0                          3.92   1065.0  \n",
            "1                          3.40   1050.0  \n",
            "2                          3.17   1185.0  \n",
            "3                          3.45   1480.0  \n",
            "4                          2.93    735.0  \n",
            "5                          2.85   1450.0  \n",
            "6                          3.58   1290.0  \n",
            "7                          3.58   1295.0  \n",
            "8                          2.85   1045.0  \n",
            "9                          3.55   1045.0  \n"
          ]
        }
      ],
      "source": [
        "# ===== 以下に解答のコードを入力して下さい =====\n",
        "pprint.pprint(wine_df[:10])"
      ],
      "id": "gjQXtmAaH7Uq"
    },
    {
      "cell_type": "markdown",
      "metadata": {
        "collapsed": false,
        "id": "ey5uTgbWH7Uq"
      },
      "source": [
        "### 問題1-4\n",
        "\n",
        "`wine_df` の行数、列数を確認しましょう。(※ヒントは[こちら](https://pandas.pydata.org/docs/reference/api/pandas.DataFrame.shape.html))"
      ],
      "id": "ey5uTgbWH7Uq"
    },
    {
      "cell_type": "code",
      "execution_count": 71,
      "metadata": {
        "ExecuteTime": {
          "end_time": "2024-01-30T09:43:30.572417Z",
          "start_time": "2024-01-30T09:43:30.531643Z"
        },
        "colab": {
          "base_uri": "https://localhost:8080/"
        },
        "id": "5hvQiSfPH7Uq",
        "outputId": "20202940-6adb-4960-e7f2-6f62c890624b"
      },
      "outputs": [
        {
          "output_type": "stream",
          "name": "stdout",
          "text": [
            "(178, 13)\n"
          ]
        }
      ],
      "source": [
        "# ===== 以下に解答のコードを入力して下さい =====\n",
        "print(wine_df.shape)\n"
      ],
      "id": "5hvQiSfPH7Uq"
    },
    {
      "cell_type": "markdown",
      "metadata": {
        "collapsed": false,
        "id": "E5Csz_q6H7Uq"
      },
      "source": [
        "### 問題1-5\n",
        "\n",
        "`wine_df` の列名の一覧を確認しましょう。(※ヒントは[こちら](https://pandas.pydata.org/docs/reference/api/pandas.DataFrame.columns.html))"
      ],
      "id": "E5Csz_q6H7Uq"
    },
    {
      "cell_type": "code",
      "execution_count": 72,
      "metadata": {
        "ExecuteTime": {
          "end_time": "2024-01-30T09:43:30.572551Z",
          "start_time": "2024-01-30T09:43:30.534718Z"
        },
        "colab": {
          "base_uri": "https://localhost:8080/"
        },
        "id": "8a2ZAc4PH7Uq",
        "outputId": "5404135e-550a-4cea-f33e-cb7a28e83845"
      },
      "outputs": [
        {
          "output_type": "stream",
          "name": "stdout",
          "text": [
            "Index(['alcohol', 'malic_acid', 'ash', 'alcalinity_of_ash', 'magnesium',\n",
            "       'total_phenols', 'flavanoids', 'nonflavanoid_phenols',\n",
            "       'proanthocyanins', 'color_intensity', 'hue',\n",
            "       'od280/od315_of_diluted_wines', 'proline'],\n",
            "      dtype='object')\n"
          ]
        }
      ],
      "source": [
        "# ===== 以下に解答のコードを入力して下さい =====\n",
        "pprint.pprint(wine_df.columns)"
      ],
      "id": "8a2ZAc4PH7Uq"
    },
    {
      "cell_type": "markdown",
      "metadata": {
        "collapsed": false,
        "id": "wTx887JFH7Uq"
      },
      "source": [
        "### 問題1-6\n",
        "\n",
        "`wine_df` から、列 `alcohol` を取得してみましょう。"
      ],
      "id": "wTx887JFH7Uq"
    },
    {
      "cell_type": "code",
      "execution_count": 73,
      "metadata": {
        "ExecuteTime": {
          "end_time": "2024-01-30T09:43:30.572751Z",
          "start_time": "2024-01-30T09:43:30.538581Z"
        },
        "colab": {
          "base_uri": "https://localhost:8080/"
        },
        "id": "cfmFscDgH7Uq",
        "outputId": "1017c674-4a19-48a1-fd9e-7131142f79ea"
      },
      "outputs": [
        {
          "output_type": "stream",
          "name": "stdout",
          "text": [
            "0      14.23\n",
            "1      13.20\n",
            "2      13.16\n",
            "3      14.37\n",
            "4      13.24\n",
            "       ...  \n",
            "173    13.71\n",
            "174    13.40\n",
            "175    13.27\n",
            "176    13.17\n",
            "177    14.13\n",
            "Name: alcohol, Length: 178, dtype: float64\n"
          ]
        }
      ],
      "source": [
        "# ===== 以下に解答のコードを入力して下さい =====\n",
        "pprint.pprint(wine_df['alcohol'])\n"
      ],
      "id": "cfmFscDgH7Uq"
    },
    {
      "cell_type": "markdown",
      "metadata": {
        "collapsed": false,
        "id": "KS2OHLwGH7Uq"
      },
      "source": [
        "### 問題1-7\n",
        "\n",
        "`wine_df` から、列 `color_intensity`, `hue` を取得してみましょう。"
      ],
      "id": "KS2OHLwGH7Uq"
    },
    {
      "cell_type": "code",
      "execution_count": 74,
      "metadata": {
        "ExecuteTime": {
          "end_time": "2024-01-30T09:43:30.572877Z",
          "start_time": "2024-01-30T09:43:30.544578Z"
        },
        "colab": {
          "base_uri": "https://localhost:8080/"
        },
        "id": "iYWl-WDtH7Uq",
        "outputId": "06c683df-5fa4-4cb8-d881-7239e683c20b"
      },
      "outputs": [
        {
          "output_type": "stream",
          "name": "stdout",
          "text": [
            "     color_intensity   hue\n",
            "0               5.64  1.04\n",
            "1               4.38  1.05\n",
            "2               5.68  1.03\n",
            "3               7.80  0.86\n",
            "4               4.32  1.04\n",
            "..               ...   ...\n",
            "173             7.70  0.64\n",
            "174             7.30  0.70\n",
            "175            10.20  0.59\n",
            "176             9.30  0.60\n",
            "177             9.20  0.61\n",
            "\n",
            "[178 rows x 2 columns]\n"
          ]
        }
      ],
      "source": [
        "# ===== 以下に解答のコードを入力して下さい =====\n",
        "pprint.pprint(wine_df[['color_intensity', 'hue']])\n"
      ],
      "id": "iYWl-WDtH7Uq"
    },
    {
      "cell_type": "markdown",
      "metadata": {
        "collapsed": false,
        "id": "gJsa0fjvH7Uq"
      },
      "source": [
        "## 問題2 データ操作\n",
        "\n",
        "dataframe に対する操作を実践してみましょう。"
      ],
      "id": "gJsa0fjvH7Uq"
    },
    {
      "cell_type": "markdown",
      "metadata": {
        "collapsed": false,
        "id": "YlMJAqDdH7Uq"
      },
      "source": [
        "### 問題2-1\n",
        "\n",
        "`wine_df` から `magnesium` の値が `100` 以上の行を抽出して、Notebook に表示してみましょう。(※ヒントは[こちら](https://pandas.pydata.org/docs/reference/api/pandas.DataFrame.loc.html))\n",
        "\n",
        "また `magnesium` の値が `100` 以上のものはいくつありますか？"
      ],
      "id": "YlMJAqDdH7Uq"
    },
    {
      "cell_type": "code",
      "execution_count": 17,
      "metadata": {
        "ExecuteTime": {
          "end_time": "2024-01-30T09:43:30.572958Z",
          "start_time": "2024-01-30T09:43:30.555459Z"
        },
        "colab": {
          "base_uri": "https://localhost:8080/"
        },
        "id": "ZFzSQZwJH7Uq",
        "outputId": "303c57b4-a82c-4ae4-a69b-7bbe2992f95c"
      },
      "outputs": [
        {
          "output_type": "stream",
          "name": "stdout",
          "text": [
            "     alcohol  malic_acid   ash  alcalinity_of_ash  magnesium  total_phenols  \\\n",
            "0      14.23        1.71  2.43               15.6      127.0           2.80   \n",
            "1      13.20        1.78  2.14               11.2      100.0           2.65   \n",
            "2      13.16        2.36  2.67               18.6      101.0           2.80   \n",
            "3      14.37        1.95  2.50               16.8      113.0           3.85   \n",
            "4      13.24        2.59  2.87               21.0      118.0           2.80   \n",
            "..       ...         ...   ...                ...        ...            ...   \n",
            "168    13.58        2.58  2.69               24.5      105.0           1.55   \n",
            "169    13.40        4.60  2.86               25.0      112.0           1.98   \n",
            "174    13.40        3.91  2.48               23.0      102.0           1.80   \n",
            "175    13.27        4.28  2.26               20.0      120.0           1.59   \n",
            "176    13.17        2.59  2.37               20.0      120.0           1.65   \n",
            "\n",
            "     flavanoids  nonflavanoid_phenols  proanthocyanins  color_intensity   hue  \\\n",
            "0          3.06                  0.28             2.29             5.64  1.04   \n",
            "1          2.76                  0.26             1.28             4.38  1.05   \n",
            "2          3.24                  0.30             2.81             5.68  1.03   \n",
            "3          3.49                  0.24             2.18             7.80  0.86   \n",
            "4          2.69                  0.39             1.82             4.32  1.04   \n",
            "..          ...                   ...              ...              ...   ...   \n",
            "168        0.84                  0.39             1.54             8.66  0.74   \n",
            "169        0.96                  0.27             1.11             8.50  0.67   \n",
            "174        0.75                  0.43             1.41             7.30  0.70   \n",
            "175        0.69                  0.43             1.35            10.20  0.59   \n",
            "176        0.68                  0.53             1.46             9.30  0.60   \n",
            "\n",
            "     od280/od315_of_diluted_wines  proline  \n",
            "0                            3.92   1065.0  \n",
            "1                            3.40   1050.0  \n",
            "2                            3.17   1185.0  \n",
            "3                            3.45   1480.0  \n",
            "4                            2.93    735.0  \n",
            "..                            ...      ...  \n",
            "168                          1.80    750.0  \n",
            "169                          1.92    630.0  \n",
            "174                          1.56    750.0  \n",
            "175                          1.56    835.0  \n",
            "176                          1.62    840.0  \n",
            "\n",
            "[81 rows x 13 columns]\n"
          ]
        }
      ],
      "source": [
        "# ===== 以下に解答のコードを入力して下さい =====\n",
        "pprint.pprint(wine_df.loc[wine_df['magnesium'] >= 100])\n"
      ],
      "id": "ZFzSQZwJH7Uq"
    },
    {
      "cell_type": "code",
      "execution_count": 18,
      "metadata": {
        "ExecuteTime": {
          "end_time": "2024-01-30T09:43:30.573023Z",
          "start_time": "2024-01-30T09:43:30.558276Z"
        },
        "colab": {
          "base_uri": "https://localhost:8080/"
        },
        "id": "M_nWoOM2H7Uq",
        "outputId": "f05b0a56-31a9-46e3-bd7a-a395082d06a7"
      },
      "outputs": [
        {
          "output_type": "stream",
          "name": "stdout",
          "text": [
            "81\n"
          ]
        }
      ],
      "source": [
        "# ===== 以下に解答のコードを入力して下さい =====\n",
        "print(len(wine_df.loc[wine_df['magnesium'] >= 100]))"
      ],
      "id": "M_nWoOM2H7Uq"
    },
    {
      "cell_type": "markdown",
      "metadata": {
        "collapsed": false,
        "id": "WaQ2aeyIH7Uq"
      },
      "source": [
        "### 問題2-2\n",
        "\n",
        "`wine_df` から `ash` の値の降順で並べ替え、上から10行を Notebook に表示してみましょう。(※ヒントは[こちら](https://pandas.pydata.org/docs/reference/api/pandas.DataFrame.sort_values.html))"
      ],
      "id": "WaQ2aeyIH7Uq"
    },
    {
      "cell_type": "code",
      "execution_count": 19,
      "metadata": {
        "ExecuteTime": {
          "end_time": "2024-01-30T09:43:30.573093Z",
          "start_time": "2024-01-30T09:43:30.560559Z"
        },
        "colab": {
          "base_uri": "https://localhost:8080/"
        },
        "id": "EtGW1UCWH7Ur",
        "outputId": "8c935fc1-339d-402b-e138-27b50759706f"
      },
      "outputs": [
        {
          "output_type": "stream",
          "name": "stdout",
          "text": [
            "     alcohol  malic_acid   ash  alcalinity_of_ash  magnesium  total_phenols  \\\n",
            "121    11.56        2.05  3.23               28.5      119.0           3.18   \n",
            "25     13.05        2.05  3.22               25.0      124.0           2.63   \n",
            "112    11.76        2.68  2.92               20.0      103.0           1.75   \n",
            "4      13.24        2.59  2.87               21.0      118.0           2.80   \n",
            "169    13.40        4.60  2.86               25.0      112.0           1.98   \n",
            "36     13.28        1.64  2.84               15.5      110.0           2.60   \n",
            "28     13.87        1.90  2.80               19.4      107.0           2.95   \n",
            "127    11.79        2.13  2.78               28.5       92.0           2.13   \n",
            "152    13.11        1.90  2.75               25.5      116.0           2.20   \n",
            "177    14.13        4.10  2.74               24.5       96.0           2.05   \n",
            "\n",
            "     flavanoids  nonflavanoid_phenols  proanthocyanins  color_intensity   hue  \\\n",
            "121        5.08                  0.47             1.87             6.00  0.93   \n",
            "25         2.68                  0.47             1.92             3.58  1.13   \n",
            "112        2.03                  0.60             1.05             3.80  1.23   \n",
            "4          2.69                  0.39             1.82             4.32  1.04   \n",
            "169        0.96                  0.27             1.11             8.50  0.67   \n",
            "36         2.68                  0.34             1.36             4.60  1.09   \n",
            "28         2.97                  0.37             1.76             4.50  1.25   \n",
            "127        2.24                  0.58             1.76             3.00  0.97   \n",
            "152        1.28                  0.26             1.56             7.10  0.61   \n",
            "177        0.76                  0.56             1.35             9.20  0.61   \n",
            "\n",
            "     od280/od315_of_diluted_wines  proline  \n",
            "121                          3.69    465.0  \n",
            "25                           3.20    830.0  \n",
            "112                          2.50    607.0  \n",
            "4                            2.93    735.0  \n",
            "169                          1.92    630.0  \n",
            "36                           2.78    880.0  \n",
            "28                           3.40    915.0  \n",
            "127                          2.44    466.0  \n",
            "152                          1.33    425.0  \n",
            "177                          1.60    560.0  \n"
          ]
        }
      ],
      "source": [
        "# ===== 以下に解答のコードを入力して下さい =====\n",
        "pprint.pprint(wine_df.sort_values('ash', ascending=False)[:10])\n"
      ],
      "id": "EtGW1UCWH7Ur"
    },
    {
      "cell_type": "markdown",
      "metadata": {
        "collapsed": false,
        "id": "vp5wREZlH7Ur"
      },
      "source": [
        "### 問題2-3\n",
        "\n",
        "`wine_df` を `target` すなわちワインの種類によってグループに分け、`flavanoids` の平均値を計算しましょう。(※ヒントは[こちら](https://pandas.pydata.org/docs/reference/api/pandas.DataFrame.groupby.html))\n",
        "\n",
        "またその結果、平均値が一番小さい `target` はどれですか？"
      ],
      "id": "vp5wREZlH7Ur"
    },
    {
      "cell_type": "code",
      "execution_count": 32,
      "metadata": {
        "ExecuteTime": {
          "end_time": "2024-01-30T09:43:30.575884Z",
          "start_time": "2024-01-30T09:43:30.571334Z"
        },
        "colab": {
          "base_uri": "https://localhost:8080/"
        },
        "id": "XeOLLAHvH7Ur",
        "outputId": "e98bf781-9c12-4b58-99be-ffe97996bf65"
      },
      "outputs": [
        {
          "output_type": "stream",
          "name": "stdout",
          "text": [
            "target\n",
            "0    2.982373\n",
            "1    2.080845\n",
            "2    0.781458\n",
            "Name: flavanoids, dtype: float64\n"
          ]
        }
      ],
      "source": [
        "# wine_df に 新しい列 target を追加する\n",
        "wine_df['target'] = pd.DataFrame(wine_data.target)\n",
        "\n",
        "# ===== 以下に解答のコードを入力して下さい =====\n",
        "flavanoids_mean = wine_df.groupby('target')['flavanoids'].mean()\n",
        "\n",
        "pprint.pprint(flavanoids_mean)\n"
      ],
      "id": "XeOLLAHvH7Ur"
    },
    {
      "cell_type": "code",
      "execution_count": 33,
      "metadata": {
        "ExecuteTime": {
          "end_time": "2024-01-30T09:43:30.577368Z",
          "start_time": "2024-01-30T09:43:30.574242Z"
        },
        "colab": {
          "base_uri": "https://localhost:8080/"
        },
        "id": "C2ZeoIbrH7Ur",
        "outputId": "eadeea3b-db52-4816-e365-cc33a7edf357"
      },
      "outputs": [
        {
          "output_type": "stream",
          "name": "stdout",
          "text": [
            "0.7814583333333333\n"
          ]
        }
      ],
      "source": [
        "# ===== 以下に解答のコードを入力して下さい =====\n",
        "print(min(flavanoids_mean))"
      ],
      "id": "C2ZeoIbrH7Ur"
    },
    {
      "cell_type": "markdown",
      "metadata": {
        "collapsed": false,
        "id": "amqztS0YH7Ur"
      },
      "source": [
        "### 問題2-4\n",
        "\n",
        "`wine_df` の列 `alcohol` に対して、\n",
        "\n",
        "13%以上は `1`\n",
        "13%未満は `0`\n",
        "\n",
        "と出力する関数 `is_alcohol_high` を適用し、新しく `alcohol_high` という変数を作成してみましょう。(※ヒントは[こちら](https://pandas.pydata.org/docs/reference/api/pandas.DataFrame.apply.html))\n",
        "\n",
        "作成したら、結果を下から10行出力して確認してみましょう。"
      ],
      "id": "amqztS0YH7Ur"
    },
    {
      "cell_type": "code",
      "execution_count": 26,
      "metadata": {
        "ExecuteTime": {
          "end_time": "2024-01-30T09:43:30.585788Z",
          "start_time": "2024-01-30T09:43:30.583478Z"
        },
        "id": "_uoSj3_pH7Ur"
      },
      "outputs": [],
      "source": [
        "# ===== 以下に解答のコードを入力して下さい =====\n",
        "def is_alcohol_high(alcohol):\n",
        "    if alcohol >= 13:\n",
        "        return 1\n",
        "    else:\n",
        "        return 0"
      ],
      "id": "_uoSj3_pH7Ur"
    },
    {
      "cell_type": "code",
      "execution_count": 27,
      "metadata": {
        "id": "yGdnrimxH7Ur",
        "colab": {
          "base_uri": "https://localhost:8080/"
        },
        "outputId": "c47ba597-f67c-4b67-eda7-8d24fbcb2ddd"
      },
      "outputs": [
        {
          "output_type": "stream",
          "name": "stdout",
          "text": [
            "     alcohol  malic_acid   ash  alcalinity_of_ash  magnesium  total_phenols  \\\n",
            "168    13.58        2.58  2.69               24.5      105.0           1.55   \n",
            "169    13.40        4.60  2.86               25.0      112.0           1.98   \n",
            "170    12.20        3.03  2.32               19.0       96.0           1.25   \n",
            "171    12.77        2.39  2.28               19.5       86.0           1.39   \n",
            "172    14.16        2.51  2.48               20.0       91.0           1.68   \n",
            "173    13.71        5.65  2.45               20.5       95.0           1.68   \n",
            "174    13.40        3.91  2.48               23.0      102.0           1.80   \n",
            "175    13.27        4.28  2.26               20.0      120.0           1.59   \n",
            "176    13.17        2.59  2.37               20.0      120.0           1.65   \n",
            "177    14.13        4.10  2.74               24.5       96.0           2.05   \n",
            "\n",
            "     flavanoids  nonflavanoid_phenols  proanthocyanins  color_intensity   hue  \\\n",
            "168        0.84                  0.39             1.54         8.660000  0.74   \n",
            "169        0.96                  0.27             1.11         8.500000  0.67   \n",
            "170        0.49                  0.40             0.73         5.500000  0.66   \n",
            "171        0.51                  0.48             0.64         9.899999  0.57   \n",
            "172        0.70                  0.44             1.24         9.700000  0.62   \n",
            "173        0.61                  0.52             1.06         7.700000  0.64   \n",
            "174        0.75                  0.43             1.41         7.300000  0.70   \n",
            "175        0.69                  0.43             1.35        10.200000  0.59   \n",
            "176        0.68                  0.53             1.46         9.300000  0.60   \n",
            "177        0.76                  0.56             1.35         9.200000  0.61   \n",
            "\n",
            "     od280/od315_of_diluted_wines  proline  target  alcohol_high  \n",
            "168                          1.80    750.0       2             1  \n",
            "169                          1.92    630.0       2             1  \n",
            "170                          1.83    510.0       2             0  \n",
            "171                          1.63    470.0       2             0  \n",
            "172                          1.71    660.0       2             1  \n",
            "173                          1.74    740.0       2             1  \n",
            "174                          1.56    750.0       2             1  \n",
            "175                          1.56    835.0       2             1  \n",
            "176                          1.62    840.0       2             1  \n",
            "177                          1.60    560.0       2             1  \n"
          ]
        }
      ],
      "source": [
        "# ===== 以下に解答のコードを入力して下さい =====\n",
        "wine_df['alcohol_high'] = wine_df['alcohol'].apply(is_alcohol_high)\n",
        "pprint.pprint(wine_df[-10:])"
      ],
      "id": "yGdnrimxH7Ur"
    },
    {
      "cell_type": "markdown",
      "metadata": {
        "collapsed": false,
        "id": "5SvoHf-HH7Ur"
      },
      "source": [
        "## 問題3 統計分析\n",
        "\n",
        "作成したデータに対して統計分析をしてみましょう。"
      ],
      "id": "5SvoHf-HH7Ur"
    },
    {
      "cell_type": "markdown",
      "metadata": {
        "collapsed": false,
        "id": "WewVU4ReH7Ur"
      },
      "source": [
        "### 問題3-1\n",
        "\n",
        "dataframe の `describe` メソッドを使用し、数値データの各種統計量を確認してみましょう。(※ヒントは[こちら](https://pandas.pydata.org/docs/reference/api/pandas.DataFrame.describe.html))\n",
        "\n",
        "特徴量の中で一番標準偏差が大きいものはどれですか？"
      ],
      "id": "WewVU4ReH7Ur"
    },
    {
      "cell_type": "code",
      "execution_count": 34,
      "metadata": {
        "ExecuteTime": {
          "end_time": "2024-01-30T09:43:30.726339Z",
          "start_time": "2024-01-30T09:43:30.587748Z"
        },
        "id": "G1-o2Zd6H7Ur",
        "colab": {
          "base_uri": "https://localhost:8080/",
          "height": 320
        },
        "outputId": "25383814-6629-46c4-ebf9-430169fde7da"
      },
      "outputs": [
        {
          "output_type": "execute_result",
          "data": {
            "text/plain": [
              "          alcohol  malic_acid         ash  alcalinity_of_ash   magnesium  \\\n",
              "count  178.000000  178.000000  178.000000         178.000000  178.000000   \n",
              "mean    13.000618    2.336348    2.366517          19.494944   99.741573   \n",
              "std      0.811827    1.117146    0.274344           3.339564   14.282484   \n",
              "min     11.030000    0.740000    1.360000          10.600000   70.000000   \n",
              "25%     12.362500    1.602500    2.210000          17.200000   88.000000   \n",
              "50%     13.050000    1.865000    2.360000          19.500000   98.000000   \n",
              "75%     13.677500    3.082500    2.557500          21.500000  107.000000   \n",
              "max     14.830000    5.800000    3.230000          30.000000  162.000000   \n",
              "\n",
              "       total_phenols  flavanoids  nonflavanoid_phenols  proanthocyanins  \\\n",
              "count     178.000000  178.000000            178.000000       178.000000   \n",
              "mean        2.295112    2.029270              0.361854         1.590899   \n",
              "std         0.625851    0.998859              0.124453         0.572359   \n",
              "min         0.980000    0.340000              0.130000         0.410000   \n",
              "25%         1.742500    1.205000              0.270000         1.250000   \n",
              "50%         2.355000    2.135000              0.340000         1.555000   \n",
              "75%         2.800000    2.875000              0.437500         1.950000   \n",
              "max         3.880000    5.080000              0.660000         3.580000   \n",
              "\n",
              "       color_intensity         hue  od280/od315_of_diluted_wines      proline  \\\n",
              "count       178.000000  178.000000                    178.000000   178.000000   \n",
              "mean          5.058090    0.957449                      2.611685   746.893258   \n",
              "std           2.318286    0.228572                      0.709990   314.907474   \n",
              "min           1.280000    0.480000                      1.270000   278.000000   \n",
              "25%           3.220000    0.782500                      1.937500   500.500000   \n",
              "50%           4.690000    0.965000                      2.780000   673.500000   \n",
              "75%           6.200000    1.120000                      3.170000   985.000000   \n",
              "max          13.000000    1.710000                      4.000000  1680.000000   \n",
              "\n",
              "           target  alcohol_high  \n",
              "count  178.000000    178.000000  \n",
              "mean     0.938202      0.516854  \n",
              "std      0.775035      0.501126  \n",
              "min      0.000000      0.000000  \n",
              "25%      0.000000      0.000000  \n",
              "50%      1.000000      1.000000  \n",
              "75%      2.000000      1.000000  \n",
              "max      2.000000      1.000000  "
            ],
            "text/html": [
              "\n",
              "  <div id=\"df-73a4b6a9-31b6-4ee8-852f-1c9fb66a613e\" class=\"colab-df-container\">\n",
              "    <div>\n",
              "<style scoped>\n",
              "    .dataframe tbody tr th:only-of-type {\n",
              "        vertical-align: middle;\n",
              "    }\n",
              "\n",
              "    .dataframe tbody tr th {\n",
              "        vertical-align: top;\n",
              "    }\n",
              "\n",
              "    .dataframe thead th {\n",
              "        text-align: right;\n",
              "    }\n",
              "</style>\n",
              "<table border=\"1\" class=\"dataframe\">\n",
              "  <thead>\n",
              "    <tr style=\"text-align: right;\">\n",
              "      <th></th>\n",
              "      <th>alcohol</th>\n",
              "      <th>malic_acid</th>\n",
              "      <th>ash</th>\n",
              "      <th>alcalinity_of_ash</th>\n",
              "      <th>magnesium</th>\n",
              "      <th>total_phenols</th>\n",
              "      <th>flavanoids</th>\n",
              "      <th>nonflavanoid_phenols</th>\n",
              "      <th>proanthocyanins</th>\n",
              "      <th>color_intensity</th>\n",
              "      <th>hue</th>\n",
              "      <th>od280/od315_of_diluted_wines</th>\n",
              "      <th>proline</th>\n",
              "      <th>target</th>\n",
              "      <th>alcohol_high</th>\n",
              "    </tr>\n",
              "  </thead>\n",
              "  <tbody>\n",
              "    <tr>\n",
              "      <th>count</th>\n",
              "      <td>178.000000</td>\n",
              "      <td>178.000000</td>\n",
              "      <td>178.000000</td>\n",
              "      <td>178.000000</td>\n",
              "      <td>178.000000</td>\n",
              "      <td>178.000000</td>\n",
              "      <td>178.000000</td>\n",
              "      <td>178.000000</td>\n",
              "      <td>178.000000</td>\n",
              "      <td>178.000000</td>\n",
              "      <td>178.000000</td>\n",
              "      <td>178.000000</td>\n",
              "      <td>178.000000</td>\n",
              "      <td>178.000000</td>\n",
              "      <td>178.000000</td>\n",
              "    </tr>\n",
              "    <tr>\n",
              "      <th>mean</th>\n",
              "      <td>13.000618</td>\n",
              "      <td>2.336348</td>\n",
              "      <td>2.366517</td>\n",
              "      <td>19.494944</td>\n",
              "      <td>99.741573</td>\n",
              "      <td>2.295112</td>\n",
              "      <td>2.029270</td>\n",
              "      <td>0.361854</td>\n",
              "      <td>1.590899</td>\n",
              "      <td>5.058090</td>\n",
              "      <td>0.957449</td>\n",
              "      <td>2.611685</td>\n",
              "      <td>746.893258</td>\n",
              "      <td>0.938202</td>\n",
              "      <td>0.516854</td>\n",
              "    </tr>\n",
              "    <tr>\n",
              "      <th>std</th>\n",
              "      <td>0.811827</td>\n",
              "      <td>1.117146</td>\n",
              "      <td>0.274344</td>\n",
              "      <td>3.339564</td>\n",
              "      <td>14.282484</td>\n",
              "      <td>0.625851</td>\n",
              "      <td>0.998859</td>\n",
              "      <td>0.124453</td>\n",
              "      <td>0.572359</td>\n",
              "      <td>2.318286</td>\n",
              "      <td>0.228572</td>\n",
              "      <td>0.709990</td>\n",
              "      <td>314.907474</td>\n",
              "      <td>0.775035</td>\n",
              "      <td>0.501126</td>\n",
              "    </tr>\n",
              "    <tr>\n",
              "      <th>min</th>\n",
              "      <td>11.030000</td>\n",
              "      <td>0.740000</td>\n",
              "      <td>1.360000</td>\n",
              "      <td>10.600000</td>\n",
              "      <td>70.000000</td>\n",
              "      <td>0.980000</td>\n",
              "      <td>0.340000</td>\n",
              "      <td>0.130000</td>\n",
              "      <td>0.410000</td>\n",
              "      <td>1.280000</td>\n",
              "      <td>0.480000</td>\n",
              "      <td>1.270000</td>\n",
              "      <td>278.000000</td>\n",
              "      <td>0.000000</td>\n",
              "      <td>0.000000</td>\n",
              "    </tr>\n",
              "    <tr>\n",
              "      <th>25%</th>\n",
              "      <td>12.362500</td>\n",
              "      <td>1.602500</td>\n",
              "      <td>2.210000</td>\n",
              "      <td>17.200000</td>\n",
              "      <td>88.000000</td>\n",
              "      <td>1.742500</td>\n",
              "      <td>1.205000</td>\n",
              "      <td>0.270000</td>\n",
              "      <td>1.250000</td>\n",
              "      <td>3.220000</td>\n",
              "      <td>0.782500</td>\n",
              "      <td>1.937500</td>\n",
              "      <td>500.500000</td>\n",
              "      <td>0.000000</td>\n",
              "      <td>0.000000</td>\n",
              "    </tr>\n",
              "    <tr>\n",
              "      <th>50%</th>\n",
              "      <td>13.050000</td>\n",
              "      <td>1.865000</td>\n",
              "      <td>2.360000</td>\n",
              "      <td>19.500000</td>\n",
              "      <td>98.000000</td>\n",
              "      <td>2.355000</td>\n",
              "      <td>2.135000</td>\n",
              "      <td>0.340000</td>\n",
              "      <td>1.555000</td>\n",
              "      <td>4.690000</td>\n",
              "      <td>0.965000</td>\n",
              "      <td>2.780000</td>\n",
              "      <td>673.500000</td>\n",
              "      <td>1.000000</td>\n",
              "      <td>1.000000</td>\n",
              "    </tr>\n",
              "    <tr>\n",
              "      <th>75%</th>\n",
              "      <td>13.677500</td>\n",
              "      <td>3.082500</td>\n",
              "      <td>2.557500</td>\n",
              "      <td>21.500000</td>\n",
              "      <td>107.000000</td>\n",
              "      <td>2.800000</td>\n",
              "      <td>2.875000</td>\n",
              "      <td>0.437500</td>\n",
              "      <td>1.950000</td>\n",
              "      <td>6.200000</td>\n",
              "      <td>1.120000</td>\n",
              "      <td>3.170000</td>\n",
              "      <td>985.000000</td>\n",
              "      <td>2.000000</td>\n",
              "      <td>1.000000</td>\n",
              "    </tr>\n",
              "    <tr>\n",
              "      <th>max</th>\n",
              "      <td>14.830000</td>\n",
              "      <td>5.800000</td>\n",
              "      <td>3.230000</td>\n",
              "      <td>30.000000</td>\n",
              "      <td>162.000000</td>\n",
              "      <td>3.880000</td>\n",
              "      <td>5.080000</td>\n",
              "      <td>0.660000</td>\n",
              "      <td>3.580000</td>\n",
              "      <td>13.000000</td>\n",
              "      <td>1.710000</td>\n",
              "      <td>4.000000</td>\n",
              "      <td>1680.000000</td>\n",
              "      <td>2.000000</td>\n",
              "      <td>1.000000</td>\n",
              "    </tr>\n",
              "  </tbody>\n",
              "</table>\n",
              "</div>\n",
              "    <div class=\"colab-df-buttons\">\n",
              "\n",
              "  <div class=\"colab-df-container\">\n",
              "    <button class=\"colab-df-convert\" onclick=\"convertToInteractive('df-73a4b6a9-31b6-4ee8-852f-1c9fb66a613e')\"\n",
              "            title=\"Convert this dataframe to an interactive table.\"\n",
              "            style=\"display:none;\">\n",
              "\n",
              "  <svg xmlns=\"http://www.w3.org/2000/svg\" height=\"24px\" viewBox=\"0 -960 960 960\">\n",
              "    <path d=\"M120-120v-720h720v720H120Zm60-500h600v-160H180v160Zm220 220h160v-160H400v160Zm0 220h160v-160H400v160ZM180-400h160v-160H180v160Zm440 0h160v-160H620v160ZM180-180h160v-160H180v160Zm440 0h160v-160H620v160Z\"/>\n",
              "  </svg>\n",
              "    </button>\n",
              "\n",
              "  <style>\n",
              "    .colab-df-container {\n",
              "      display:flex;\n",
              "      gap: 12px;\n",
              "    }\n",
              "\n",
              "    .colab-df-convert {\n",
              "      background-color: #E8F0FE;\n",
              "      border: none;\n",
              "      border-radius: 50%;\n",
              "      cursor: pointer;\n",
              "      display: none;\n",
              "      fill: #1967D2;\n",
              "      height: 32px;\n",
              "      padding: 0 0 0 0;\n",
              "      width: 32px;\n",
              "    }\n",
              "\n",
              "    .colab-df-convert:hover {\n",
              "      background-color: #E2EBFA;\n",
              "      box-shadow: 0px 1px 2px rgba(60, 64, 67, 0.3), 0px 1px 3px 1px rgba(60, 64, 67, 0.15);\n",
              "      fill: #174EA6;\n",
              "    }\n",
              "\n",
              "    .colab-df-buttons div {\n",
              "      margin-bottom: 4px;\n",
              "    }\n",
              "\n",
              "    [theme=dark] .colab-df-convert {\n",
              "      background-color: #3B4455;\n",
              "      fill: #D2E3FC;\n",
              "    }\n",
              "\n",
              "    [theme=dark] .colab-df-convert:hover {\n",
              "      background-color: #434B5C;\n",
              "      box-shadow: 0px 1px 3px 1px rgba(0, 0, 0, 0.15);\n",
              "      filter: drop-shadow(0px 1px 2px rgba(0, 0, 0, 0.3));\n",
              "      fill: #FFFFFF;\n",
              "    }\n",
              "  </style>\n",
              "\n",
              "    <script>\n",
              "      const buttonEl =\n",
              "        document.querySelector('#df-73a4b6a9-31b6-4ee8-852f-1c9fb66a613e button.colab-df-convert');\n",
              "      buttonEl.style.display =\n",
              "        google.colab.kernel.accessAllowed ? 'block' : 'none';\n",
              "\n",
              "      async function convertToInteractive(key) {\n",
              "        const element = document.querySelector('#df-73a4b6a9-31b6-4ee8-852f-1c9fb66a613e');\n",
              "        const dataTable =\n",
              "          await google.colab.kernel.invokeFunction('convertToInteractive',\n",
              "                                                    [key], {});\n",
              "        if (!dataTable) return;\n",
              "\n",
              "        const docLinkHtml = 'Like what you see? Visit the ' +\n",
              "          '<a target=\"_blank\" href=https://colab.research.google.com/notebooks/data_table.ipynb>data table notebook</a>'\n",
              "          + ' to learn more about interactive tables.';\n",
              "        element.innerHTML = '';\n",
              "        dataTable['output_type'] = 'display_data';\n",
              "        await google.colab.output.renderOutput(dataTable, element);\n",
              "        const docLink = document.createElement('div');\n",
              "        docLink.innerHTML = docLinkHtml;\n",
              "        element.appendChild(docLink);\n",
              "      }\n",
              "    </script>\n",
              "  </div>\n",
              "\n",
              "\n",
              "<div id=\"df-8747c9fb-38ff-4528-882b-54dbf06e0388\">\n",
              "  <button class=\"colab-df-quickchart\" onclick=\"quickchart('df-8747c9fb-38ff-4528-882b-54dbf06e0388')\"\n",
              "            title=\"Suggest charts\"\n",
              "            style=\"display:none;\">\n",
              "\n",
              "<svg xmlns=\"http://www.w3.org/2000/svg\" height=\"24px\"viewBox=\"0 0 24 24\"\n",
              "     width=\"24px\">\n",
              "    <g>\n",
              "        <path d=\"M19 3H5c-1.1 0-2 .9-2 2v14c0 1.1.9 2 2 2h14c1.1 0 2-.9 2-2V5c0-1.1-.9-2-2-2zM9 17H7v-7h2v7zm4 0h-2V7h2v10zm4 0h-2v-4h2v4z\"/>\n",
              "    </g>\n",
              "</svg>\n",
              "  </button>\n",
              "\n",
              "<style>\n",
              "  .colab-df-quickchart {\n",
              "      --bg-color: #E8F0FE;\n",
              "      --fill-color: #1967D2;\n",
              "      --hover-bg-color: #E2EBFA;\n",
              "      --hover-fill-color: #174EA6;\n",
              "      --disabled-fill-color: #AAA;\n",
              "      --disabled-bg-color: #DDD;\n",
              "  }\n",
              "\n",
              "  [theme=dark] .colab-df-quickchart {\n",
              "      --bg-color: #3B4455;\n",
              "      --fill-color: #D2E3FC;\n",
              "      --hover-bg-color: #434B5C;\n",
              "      --hover-fill-color: #FFFFFF;\n",
              "      --disabled-bg-color: #3B4455;\n",
              "      --disabled-fill-color: #666;\n",
              "  }\n",
              "\n",
              "  .colab-df-quickchart {\n",
              "    background-color: var(--bg-color);\n",
              "    border: none;\n",
              "    border-radius: 50%;\n",
              "    cursor: pointer;\n",
              "    display: none;\n",
              "    fill: var(--fill-color);\n",
              "    height: 32px;\n",
              "    padding: 0;\n",
              "    width: 32px;\n",
              "  }\n",
              "\n",
              "  .colab-df-quickchart:hover {\n",
              "    background-color: var(--hover-bg-color);\n",
              "    box-shadow: 0 1px 2px rgba(60, 64, 67, 0.3), 0 1px 3px 1px rgba(60, 64, 67, 0.15);\n",
              "    fill: var(--button-hover-fill-color);\n",
              "  }\n",
              "\n",
              "  .colab-df-quickchart-complete:disabled,\n",
              "  .colab-df-quickchart-complete:disabled:hover {\n",
              "    background-color: var(--disabled-bg-color);\n",
              "    fill: var(--disabled-fill-color);\n",
              "    box-shadow: none;\n",
              "  }\n",
              "\n",
              "  .colab-df-spinner {\n",
              "    border: 2px solid var(--fill-color);\n",
              "    border-color: transparent;\n",
              "    border-bottom-color: var(--fill-color);\n",
              "    animation:\n",
              "      spin 1s steps(1) infinite;\n",
              "  }\n",
              "\n",
              "  @keyframes spin {\n",
              "    0% {\n",
              "      border-color: transparent;\n",
              "      border-bottom-color: var(--fill-color);\n",
              "      border-left-color: var(--fill-color);\n",
              "    }\n",
              "    20% {\n",
              "      border-color: transparent;\n",
              "      border-left-color: var(--fill-color);\n",
              "      border-top-color: var(--fill-color);\n",
              "    }\n",
              "    30% {\n",
              "      border-color: transparent;\n",
              "      border-left-color: var(--fill-color);\n",
              "      border-top-color: var(--fill-color);\n",
              "      border-right-color: var(--fill-color);\n",
              "    }\n",
              "    40% {\n",
              "      border-color: transparent;\n",
              "      border-right-color: var(--fill-color);\n",
              "      border-top-color: var(--fill-color);\n",
              "    }\n",
              "    60% {\n",
              "      border-color: transparent;\n",
              "      border-right-color: var(--fill-color);\n",
              "    }\n",
              "    80% {\n",
              "      border-color: transparent;\n",
              "      border-right-color: var(--fill-color);\n",
              "      border-bottom-color: var(--fill-color);\n",
              "    }\n",
              "    90% {\n",
              "      border-color: transparent;\n",
              "      border-bottom-color: var(--fill-color);\n",
              "    }\n",
              "  }\n",
              "</style>\n",
              "\n",
              "  <script>\n",
              "    async function quickchart(key) {\n",
              "      const quickchartButtonEl =\n",
              "        document.querySelector('#' + key + ' button');\n",
              "      quickchartButtonEl.disabled = true;  // To prevent multiple clicks.\n",
              "      quickchartButtonEl.classList.add('colab-df-spinner');\n",
              "      try {\n",
              "        const charts = await google.colab.kernel.invokeFunction(\n",
              "            'suggestCharts', [key], {});\n",
              "      } catch (error) {\n",
              "        console.error('Error during call to suggestCharts:', error);\n",
              "      }\n",
              "      quickchartButtonEl.classList.remove('colab-df-spinner');\n",
              "      quickchartButtonEl.classList.add('colab-df-quickchart-complete');\n",
              "    }\n",
              "    (() => {\n",
              "      let quickchartButtonEl =\n",
              "        document.querySelector('#df-8747c9fb-38ff-4528-882b-54dbf06e0388 button');\n",
              "      quickchartButtonEl.style.display =\n",
              "        google.colab.kernel.accessAllowed ? 'block' : 'none';\n",
              "    })();\n",
              "  </script>\n",
              "</div>\n",
              "\n",
              "    </div>\n",
              "  </div>\n"
            ],
            "application/vnd.google.colaboratory.intrinsic+json": {
              "type": "dataframe",
              "summary": "{\n  \"name\": \"wine_df\",\n  \"rows\": 8,\n  \"fields\": [\n    {\n      \"column\": \"alcohol\",\n      \"properties\": {\n        \"dtype\": \"number\",\n        \"std\": 59.11804622765535,\n        \"min\": 0.8118265380058577,\n        \"max\": 178.0,\n        \"num_unique_values\": 8,\n        \"samples\": [\n          13.00061797752809,\n          13.05,\n          178.0\n        ],\n        \"semantic_type\": \"\",\n        \"description\": \"\"\n      }\n    },\n    {\n      \"column\": \"malic_acid\",\n      \"properties\": {\n        \"dtype\": \"number\",\n        \"std\": 62.116878053835904,\n        \"min\": 0.74,\n        \"max\": 178.0,\n        \"num_unique_values\": 8,\n        \"samples\": [\n          2.3363483146067416,\n          1.8650000000000002,\n          178.0\n        ],\n        \"semantic_type\": \"\",\n        \"description\": \"\"\n      }\n    },\n    {\n      \"column\": \"ash\",\n      \"properties\": {\n        \"dtype\": \"number\",\n        \"std\": 62.2136127716068,\n        \"min\": 0.2743440090608148,\n        \"max\": 178.0,\n        \"num_unique_values\": 8,\n        \"samples\": [\n          2.3665168539325845,\n          2.36,\n          178.0\n        ],\n        \"semantic_type\": \"\",\n        \"description\": \"\"\n      }\n    },\n    {\n      \"column\": \"alcalinity_of_ash\",\n      \"properties\": {\n        \"dtype\": \"number\",\n        \"std\": 57.32526338306686,\n        \"min\": 3.3395637671735052,\n        \"max\": 178.0,\n        \"num_unique_values\": 8,\n        \"samples\": [\n          19.49494382022472,\n          19.5,\n          178.0\n        ],\n        \"semantic_type\": \"\",\n        \"description\": \"\"\n      }\n    },\n    {\n      \"column\": \"magnesium\",\n      \"properties\": {\n        \"dtype\": \"number\",\n        \"std\": 51.18081686409121,\n        \"min\": 14.282483515295668,\n        \"max\": 178.0,\n        \"num_unique_values\": 8,\n        \"samples\": [\n          99.74157303370787,\n          98.0,\n          178.0\n        ],\n        \"semantic_type\": \"\",\n        \"description\": \"\"\n      }\n    },\n    {\n      \"column\": \"total_phenols\",\n      \"properties\": {\n        \"dtype\": \"number\",\n        \"std\": 62.19953212829461,\n        \"min\": 0.6258510488339891,\n        \"max\": 178.0,\n        \"num_unique_values\": 8,\n        \"samples\": [\n          2.295112359550562,\n          2.355,\n          178.0\n        ],\n        \"semantic_type\": \"\",\n        \"description\": \"\"\n      }\n    },\n    {\n      \"column\": \"flavanoids\",\n      \"properties\": {\n        \"dtype\": \"number\",\n        \"std\": 62.20866774807846,\n        \"min\": 0.34,\n        \"max\": 178.0,\n        \"num_unique_values\": 8,\n        \"samples\": [\n          2.0292696629213487,\n          2.135,\n          178.0\n        ],\n        \"semantic_type\": \"\",\n        \"description\": \"\"\n      }\n    },\n    {\n      \"column\": \"nonflavanoid_phenols\",\n      \"properties\": {\n        \"dtype\": \"number\",\n        \"std\": 62.81536936528359,\n        \"min\": 0.12445334029667939,\n        \"max\": 178.0,\n        \"num_unique_values\": 8,\n        \"samples\": [\n          0.3618539325842696,\n          0.34,\n          178.0\n        ],\n        \"semantic_type\": \"\",\n        \"description\": \"\"\n      }\n    },\n    {\n      \"column\": \"proanthocyanins\",\n      \"properties\": {\n        \"dtype\": \"number\",\n        \"std\": 62.389141510191415,\n        \"min\": 0.41,\n        \"max\": 178.0,\n        \"num_unique_values\": 8,\n        \"samples\": [\n          1.5908988764044945,\n          1.5550000000000002,\n          178.0\n        ],\n        \"semantic_type\": \"\",\n        \"description\": \"\"\n      }\n    },\n    {\n      \"column\": \"color_intensity\",\n      \"properties\": {\n        \"dtype\": \"number\",\n        \"std\": 61.23070389608627,\n        \"min\": 1.28,\n        \"max\": 178.0,\n        \"num_unique_values\": 8,\n        \"samples\": [\n          5.058089882022472,\n          4.6899999999999995,\n          178.0\n        ],\n        \"semantic_type\": \"\",\n        \"description\": \"\"\n      }\n    },\n    {\n      \"column\": \"hue\",\n      \"properties\": {\n        \"dtype\": \"number\",\n        \"std\": 62.618701002452724,\n        \"min\": 0.22857156582982338,\n        \"max\": 178.0,\n        \"num_unique_values\": 8,\n        \"samples\": [\n          0.9574494382022471,\n          0.965,\n          178.0\n        ],\n        \"semantic_type\": \"\",\n        \"description\": \"\"\n      }\n    },\n    {\n      \"column\": \"od280/od315_of_diluted_wines\",\n      \"properties\": {\n        \"dtype\": \"number\",\n        \"std\": 62.109005977624996,\n        \"min\": 0.7099904287650505,\n        \"max\": 178.0,\n        \"num_unique_values\": 8,\n        \"samples\": [\n          2.6116853932584267,\n          2.78,\n          178.0\n        ],\n        \"semantic_type\": \"\",\n        \"description\": \"\"\n      }\n    },\n    {\n      \"column\": \"proline\",\n      \"properties\": {\n        \"dtype\": \"number\",\n        \"std\": 489.2848273029377,\n        \"min\": 178.0,\n        \"max\": 1680.0,\n        \"num_unique_values\": 8,\n        \"samples\": [\n          746.8932584269663,\n          673.5,\n          178.0\n        ],\n        \"semantic_type\": \"\",\n        \"description\": \"\"\n      }\n    },\n    {\n      \"column\": \"target\",\n      \"properties\": {\n        \"dtype\": \"number\",\n        \"std\": 62.59804698158683,\n        \"min\": 0.0,\n        \"max\": 178.0,\n        \"num_unique_values\": 6,\n        \"samples\": [\n          178.0,\n          0.9382022471910112,\n          2.0\n        ],\n        \"semantic_type\": \"\",\n        \"description\": \"\"\n      }\n    },\n    {\n      \"column\": \"alcohol_high\",\n      \"properties\": {\n        \"dtype\": \"number\",\n        \"std\": 62.73094492700212,\n        \"min\": 0.0,\n        \"max\": 178.0,\n        \"num_unique_values\": 5,\n        \"samples\": [\n          0.5168539325842697,\n          1.0,\n          0.5011255027477864\n        ],\n        \"semantic_type\": \"\",\n        \"description\": \"\"\n      }\n    }\n  ]\n}"
            }
          },
          "metadata": {},
          "execution_count": 34
        }
      ],
      "source": [
        "# ===== 以下に解答のコードを入力して下さい =====\n",
        "wine_df.describe()\n"
      ],
      "id": "G1-o2Zd6H7Ur"
    },
    {
      "cell_type": "code",
      "execution_count": 36,
      "metadata": {
        "ExecuteTime": {
          "end_time": "2024-01-30T09:43:30.726480Z",
          "start_time": "2024-01-30T09:43:30.599879Z"
        },
        "id": "hQ3rjx5tH7Us",
        "colab": {
          "base_uri": "https://localhost:8080/"
        },
        "outputId": "be80fc01-58ff-4b72-8329-17feb24a368a"
      },
      "outputs": [
        {
          "output_type": "stream",
          "name": "stdout",
          "text": [
            "proline\n"
          ]
        }
      ],
      "source": [
        "# ===== 以下に解答のコードを入力して下さい =====\n",
        "print(wine_df.std().idxmax())"
      ],
      "id": "hQ3rjx5tH7Us"
    },
    {
      "cell_type": "markdown",
      "metadata": {
        "collapsed": false,
        "id": "lRBy7dS7H7Us"
      },
      "source": [
        "### 問題3-2\n",
        "\n",
        "dataframeの `plot.hist` メソッドを使用し、`proline` の分布を可視化しましょう。(※ヒントは[こちら](https://pandas.pydata.org/docs/reference/api/pandas.DataFrame.plot.hist.html))"
      ],
      "id": "lRBy7dS7H7Us"
    },
    {
      "cell_type": "code",
      "execution_count": 37,
      "metadata": {
        "ExecuteTime": {
          "end_time": "2024-01-30T09:43:30.903865Z",
          "start_time": "2024-01-30T09:43:30.610072Z"
        },
        "id": "K8DlyODbH7Us",
        "colab": {
          "base_uri": "https://localhost:8080/",
          "height": 448
        },
        "outputId": "e493f803-b928-442d-c0b1-6896895f20f2"
      },
      "outputs": [
        {
          "output_type": "execute_result",
          "data": {
            "text/plain": [
              "<Axes: ylabel='Frequency'>"
            ]
          },
          "metadata": {},
          "execution_count": 37
        },
        {
          "output_type": "display_data",
          "data": {
            "text/plain": [
              "<Figure size 640x480 with 1 Axes>"
            ],
            "image/png": "[encoded data removed]"
          },
          "metadata": {}
        }
      ],
      "source": [
        "# ===== 以下に解答のコードを入力して下さい =====\n",
        "wine_df['proline'].plot.hist()\n"
      ],
      "id": "K8DlyODbH7Us"
    },
    {
      "cell_type": "markdown",
      "metadata": {
        "collapsed": false,
        "id": "LKAc5KJ4H7Us"
      },
      "source": [
        "### 問題3-3\n",
        "\n",
        "dataframeの `plot.scatter` メソッドを使用し、`total_phenols`, `flavanoids` の分布を可視化しましょう。(※ヒントは[こちら](https://pandas.pydata.org/docs/reference/api/pandas.DataFrame.plot.scatter.html))\n",
        "\n",
        "また可視化した結果、どんなことが言えそうですか？"
      ],
      "id": "LKAc5KJ4H7Us"
    },
    {
      "cell_type": "code",
      "execution_count": 44,
      "metadata": {
        "ExecuteTime": {
          "end_time": "2024-01-30T09:43:31.033982Z",
          "start_time": "2024-01-30T09:43:30.783235Z"
        },
        "id": "ovLOsHyuH7Us",
        "colab": {
          "base_uri": "https://localhost:8080/",
          "height": 468
        },
        "outputId": "c50d0536-0e62-46d3-d919-867987ecd229"
      },
      "outputs": [
        {
          "output_type": "execute_result",
          "data": {
            "text/plain": [
              "<Axes: xlabel='total_phenols', ylabel='flavanoids'>"
            ]
          },
          "metadata": {},
          "execution_count": 44
        },
        {
          "output_type": "display_data",
          "data": {
            "text/plain": [
              "<Figure size 640x480 with 1 Axes>"
            ],
            "image/png": "[encoded data removed]"
          },
          "metadata": {}
        }
      ],
      "source": [
        "# ===== 以下に解答のコードを入力して下さい =====\n",
        "wine_df.plot.scatter(x='total_phenols', y='flavanoids', c='DarkBlue')\n"
      ],
      "id": "ovLOsHyuH7Us"
    },
    {
      "cell_type": "code",
      "execution_count": 52,
      "metadata": {
        "ExecuteTime": {
          "end_time": "2024-01-30T09:43:31.038417Z",
          "start_time": "2024-01-30T09:43:30.939726Z"
        },
        "id": "qAnICw3sH7Us",
        "colab": {
          "base_uri": "https://localhost:8080/"
        },
        "outputId": "a99e9770-f54e-47bc-ce86-fa05852132a9"
      },
      "outputs": [
        {
          "output_type": "stream",
          "name": "stdout",
          "text": [
            "total_phenols と flavanoids には正の相関がある。\n",
            "total_phenols の値が大きくなるほど、flavanoids の値も大きくなる傾向がある。\n"
          ]
        }
      ],
      "source": [
        "# ===== 以下に解答のコードを入力して下さい =====\n",
        "print(\"total_phenols と flavanoids には正の相関がある。\\ntotal_phenols の値が大きくなるほど、flavanoids の値も大きくなる傾向がある。\")\n"
      ],
      "id": "qAnICw3sH7Us"
    },
    {
      "cell_type": "markdown",
      "metadata": {
        "collapsed": false,
        "id": "nBKsasDDH7Us"
      },
      "source": [
        "### 問題3-4\n",
        "\n",
        "dataframeの `corr` メソッドを使用し、`total_phenols`, `flavanoids` の相関係数を計算しましょう。(※ヒントは[こちら](https://pandas.pydata.org/docs/reference/api/pandas.DataFrame.corr.html))"
      ],
      "id": "nBKsasDDH7Us"
    },
    {
      "cell_type": "code",
      "execution_count": 48,
      "metadata": {
        "ExecuteTime": {
          "end_time": "2024-01-30T09:43:31.038667Z",
          "start_time": "2024-01-30T09:43:30.946018Z"
        },
        "id": "SC08Cn-QH7Us",
        "colab": {
          "base_uri": "https://localhost:8080/"
        },
        "outputId": "5b6bb854-355d-42cc-bd4b-0c44a597b13b"
      },
      "outputs": [
        {
          "output_type": "stream",
          "name": "stdout",
          "text": [
            "               total_phenols  flavanoids\n",
            "total_phenols       1.000000    0.864564\n",
            "flavanoids          0.864564    1.000000\n"
          ]
        }
      ],
      "source": [
        "# ===== 以下に解答のコードを入力して下さい =====\n",
        "print(wine_df[['total_phenols', 'flavanoids']].corr())\n"
      ],
      "id": "SC08Cn-QH7Us"
    },
    {
      "cell_type": "markdown",
      "metadata": {
        "collapsed": false,
        "id": "YTQinxlcH7Us"
      },
      "source": [
        "### 問題4 探索的データ解析（EDA）\n",
        "\n",
        "EDAを行い、データの特徴や傾向を特定していきましょう。"
      ],
      "id": "YTQinxlcH7Us"
    },
    {
      "cell_type": "markdown",
      "metadata": {
        "collapsed": false,
        "id": "hKdGHEUgH7Us"
      },
      "source": [
        "### 問題4-1\n",
        "\n",
        "ワインの種類 `target` ごとに特徴量の平均を算出してみましょう。\n",
        "またその結果、ワインの種類 `target` ごとに差がある特徴量を2つ選択して下さい。"
      ],
      "id": "hKdGHEUgH7Us"
    },
    {
      "cell_type": "code",
      "execution_count": 57,
      "metadata": {
        "ExecuteTime": {
          "end_time": "2024-01-30T09:43:31.038745Z",
          "start_time": "2024-01-30T09:43:30.955579Z"
        },
        "id": "DJN5ZxWYH7Us",
        "colab": {
          "base_uri": "https://localhost:8080/"
        },
        "outputId": "6fc42e46-5eb3-4143-c8a9-fe9240f41bf3"
      },
      "outputs": [
        {
          "output_type": "stream",
          "name": "stdout",
          "text": [
            "          alcohol  malic_acid       ash  alcalinity_of_ash   magnesium  \\\n",
            "target                                                                   \n",
            "0       13.744746    2.010678  2.455593          17.037288  106.338983   \n",
            "1       12.278732    1.932676  2.244789          20.238028   94.549296   \n",
            "2       13.153750    3.333750  2.437083          21.416667   99.312500   \n",
            "\n",
            "        total_phenols  flavanoids  nonflavanoid_phenols  proanthocyanins  \\\n",
            "target                                                                     \n",
            "0            2.840169    2.982373              0.290000         1.899322   \n",
            "1            2.258873    2.080845              0.363662         1.630282   \n",
            "2            1.678750    0.781458              0.447500         1.153542   \n",
            "\n",
            "        color_intensity       hue  od280/od315_of_diluted_wines      proline  \\\n",
            "target                                                                         \n",
            "0              5.528305  1.062034                      3.157797  1115.711864   \n",
            "1              3.086620  1.056282                      2.785352   519.507042   \n",
            "2              7.396250  0.682708                      1.683542   629.895833   \n",
            "\n",
            "        alcohol_high  \n",
            "target                \n",
            "0           0.966102  \n",
            "1           0.112676  \n",
            "2           0.562500  \n"
          ]
        }
      ],
      "source": [
        "# ===== 以下に解答のコードを入力して下さい =====\n",
        "target_means = wine_df.groupby('target').mean()\n",
        "print(target_means)"
      ],
      "id": "DJN5ZxWYH7Us"
    },
    {
      "cell_type": "code",
      "execution_count": 76,
      "metadata": {
        "ExecuteTime": {
          "end_time": "2024-01-30T09:43:31.038809Z",
          "start_time": "2024-01-30T09:43:30.960252Z"
        },
        "id": "D_6bsWhYH7Us",
        "colab": {
          "base_uri": "https://localhost:8080/"
        },
        "outputId": "50b1a38a-450a-489e-e173-8eb939db4796"
      },
      "outputs": [
        {
          "output_type": "stream",
          "name": "stdout",
          "text": [
            "1 proline\n",
            "2 magnesium\n"
          ]
        }
      ],
      "source": [
        "# ===== 以下に解答のコードを入力して下さい =====\n",
        "# 各特徴量の平均値の標準偏差\n",
        "std_devs = target_means.std()\n",
        "top_features = std_devs.nlargest(2).index.tolist()\n",
        "print(\"1\",top_features[0])\n",
        "print(\"2\",top_features[1])"
      ],
      "id": "D_6bsWhYH7Us"
    },
    {
      "cell_type": "markdown",
      "metadata": {
        "collapsed": false,
        "id": "q_667X4zH7Us"
      },
      "source": [
        "### 問題4-2\n",
        "\n",
        "問題4-1 で選択した２つの特徴量で、上手くワインの種類が分類できそうかを散布図を用いて確認してみましょう。\n",
        "\n",
        "ここでは `seaborn` の `scatterplot` を用いて描画してみましょう。(※ヒントは[こちら](https://seaborn.pydata.org/generated/seaborn.scatterplot.html))"
      ],
      "id": "q_667X4zH7Us"
    },
    {
      "cell_type": "code",
      "execution_count": 65,
      "metadata": {
        "ExecuteTime": {
          "end_time": "2024-01-30T09:43:31.234996Z",
          "start_time": "2024-01-30T09:43:30.965521Z"
        },
        "id": "Ozs31rTMH7Us",
        "colab": {
          "base_uri": "https://localhost:8080/",
          "height": 542
        },
        "outputId": "ca56df1b-c2a8-4682-b4d0-9e7784e80cd6"
      },
      "outputs": [
        {
          "output_type": "display_data",
          "data": {
            "text/plain": [
              "<Figure size 1000x600 with 1 Axes>"
            ],
            "image/png": "[encoded data removed]"
          },
          "metadata": {}
        }
      ],
      "source": [
        "# ===== 以下に解答のコードを入力して下さい =====\n",
        "plt.figure(figsize=(10, 6))\n",
        "sns.scatterplot(data=wine_df, x=top_features[0], y=top_features[1], hue='target', palette='pastel')\n",
        "plt.show()\n"
      ],
      "id": "Ozs31rTMH7Us"
    },
    {
      "cell_type": "code",
      "execution_count": null,
      "metadata": {
        "ExecuteTime": {
          "end_time": "2024-01-30T09:43:31.235216Z",
          "start_time": "2024-01-30T09:43:31.143084Z"
        },
        "id": "YbowEf18H7Ut"
      },
      "outputs": [],
      "source": [],
      "id": "YbowEf18H7Ut"
    }
  ],
  "metadata": {
    "kernelspec": {
      "display_name": "Python 3 (ipykernel)",
      "language": "python",
      "name": "python3"
    },
    "language_info": {
      "codemirror_mode": {
        "name": "ipython",
        "version": 3
      },
      "file_extension": ".py",
      "mimetype": "text/x-python",
      "name": "python",
      "nbconvert_exporter": "python",
      "pygments_lexer": "ipython3",
      "version": "3.10.11"
    },
    "colab": {
      "provenance": [],
      "collapsed_sections": [
        "ey5uTgbWH7Uq",
        "E5Csz_q6H7Uq",
        "wTx887JFH7Uq",
        "KS2OHLwGH7Uq",
        "gJsa0fjvH7Uq",
        "WaQ2aeyIH7Uq",
        "vp5wREZlH7Ur",
        "amqztS0YH7Ur",
        "WewVU4ReH7Ur"
      ]
    }
  },
  "nbformat": 4,
  "nbformat_minor": 5
}