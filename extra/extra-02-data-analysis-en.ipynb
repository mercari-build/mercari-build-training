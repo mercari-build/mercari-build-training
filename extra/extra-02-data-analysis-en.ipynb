{
 "cells": [
  {
   "cell_type": "markdown",
   "source": [
    "# Extra2 Data Analysis"
   ],
   "metadata": {
    "collapsed": false
   }
  },
  {
   "cell_type": "code",
   "execution_count": null,
   "outputs": [],
   "source": [
    "# install libraries for extra contents\n",
    "!pip install matplotlib\n",
    "!pip install pandas\n",
    "!pip install scikit-learn\n",
    "!pip install seaborn\n",
    "\n",
    "import pprint\n",
    "from matplotlib import pyplot as plt\n",
    "%matplotlib inline\n",
    "import pandas as pd\n",
    "import seaborn as sns\n",
    "from sklearn import datasets"
   ],
   "metadata": {
    "collapsed": false,
    "ExecuteTime": {
     "start_time": "2024-02-05T00:11:20.876737Z",
     "end_time": "2024-02-05T00:11:24.173651Z"
    }
   }
  },
  {
   "cell_type": "markdown",
   "source": [
    "## Problem 1: Import dataset\n",
    "\n",
    "For this exercise, we will use the Wine dataset provided by the UCI Machine Learning Repository.[Ref](https://archive.ics.uci.edu/dataset/109/wine)\n",
    "This dataset is the result of chemical analysis of wines grown in the same region of Italy and derived from three different varietals.\n",
    "\n",
    "The data definitions are as follows:"
   ],
   "metadata": {
    "collapsed": false
   }
  },
  {
   "cell_type": "markdown",
   "source": [
    "### target\n",
    "\n",
    "| variable name | definition   |\n",
    "|---------------|--------------|\n",
    "| target        | Type of Wine |"
   ],
   "metadata": {
    "collapsed": false
   }
  },
  {
   "cell_type": "markdown",
   "source": [
    "### feature_names\n",
    "\n",
    "| variable name                | definition                                                             |\n",
    "|------------------------------|------------------------------------------------------------------------|\n",
    "| alcohol                      | alcohol concentration                                                  |\n",
    "| malic_acid                   | malic acid concentration                                               |\n",
    "| ash                          | ash concentration                                                      |\n",
    "| alcalinity_of_ash            | alkalinity of ash                                                      |\n",
    "| magnesium                    | amount of magnesium                                                    |\n",
    "| total_phenol                 | total amount of phenol                                                 |\n",
    "| flavanoids                   | amount of flavanoids                                                   |\n",
    "| nonflavanoid_phenols         | amount of non-flavanoid phenols                                        |\n",
    "| proanthocyanins              | amount of proanthocyanin                                               |\n",
    "| color_intensity              | color intensity                                                        |\n",
    "| hue                          | hue                                                                    |\n",
    "| od280/OD315_of_diluted wines | Turbidity of diluted wine to light at wavelengths of 280 nm and 315 nm |\n",
    "| proline                      | amount of proline                                                      |\n",
    "\n",
    "[Reference material](https://www.jstage.jst.go.jp/article/jbrewsocjapan1915/75/8/75_8_631/_pdf/-char/ja) on the taste and composition of wine"
   ],
   "metadata": {
    "collapsed": false
   }
  },
  {
   "cell_type": "markdown",
   "source": [
    "### Import wine dataset\n",
    "\n",
    "Wine datasets are stored in the `sklearn.datasets` file `import` above.\n",
    "To load a dataset from `sklearn.datasets`, run the following code. [Ref](https://scikit-learn.org/stable/modules/generated/sklearn.datasets.load_wine.html)"
   ],
   "metadata": {
    "collapsed": false
   }
  },
  {
   "cell_type": "code",
   "execution_count": null,
   "outputs": [],
   "source": [
    "wine_data = datasets.load_wine()"
   ],
   "metadata": {
    "collapsed": false,
    "ExecuteTime": {
     "start_time": "2024-02-05T00:11:24.175049Z",
     "end_time": "2024-02-05T00:11:24.177327Z"
    }
   }
  },
  {
   "cell_type": "markdown",
   "source": [
    "Let's look at the actual contents of the loaded data.\n",
    "The `pprint` module, which is part of the `Python` standard library, allows you to display objects of type list, dictionary, etc. in a nicely formatted manner. [Ref](https://docs.python.org/3/library/pprint.html#module-pprint)"
   ],
   "metadata": {
    "collapsed": false
   }
  },
  {
   "cell_type": "code",
   "execution_count": null,
   "outputs": [],
   "source": [
    "pprint.pprint(wine_data)"
   ],
   "metadata": {
    "collapsed": false,
    "ExecuteTime": {
     "start_time": "2024-02-05T00:11:24.179896Z",
     "end_time": "2024-02-05T00:11:24.182037Z"
    }
   }
  },
  {
   "cell_type": "markdown",
   "source": [
    "You can see that the details of the Wine dataset, data, feature names, etc. are stored in a dictionary type."
   ],
   "metadata": {
    "collapsed": false
   }
  },
  {
   "cell_type": "markdown",
   "source": [
    "### Problem 1-1\n",
    "\n",
    "Extract and output only `data` from the data set `wine_data` read above. (*Hints are [here](https://docs.python.org/3/tutorial/datastructures.html#dictionaries))"
   ],
   "metadata": {
    "collapsed": false
   }
  },
  {
   "cell_type": "code",
   "execution_count": null,
   "outputs": [],
   "source": [
    "# ===== Please enter your answer code below. =====\n"
   ],
   "metadata": {
    "collapsed": false,
    "ExecuteTime": {
     "start_time": "2024-02-05T00:11:24.182267Z",
     "end_time": "2024-02-05T00:11:24.183614Z"
    }
   }
  },
  {
   "cell_type": "markdown",
   "source": [
    "### Problem 1-2\n",
    "\n",
    "Convert the data read in problem 1-1 into a pandas dataframe. Then, use `wine_df` for the variable name and `wine_data.feature_names` for the column name. (*Hints are [here](https://pandas.pydata.org/docs/reference/api/pandas.DataFrame.html))"
   ],
   "metadata": {
    "collapsed": false
   }
  },
  {
   "cell_type": "code",
   "execution_count": null,
   "outputs": [],
   "source": [
    "# ===== Please enter your answer code below. =====\n",
    "wine_df = None"
   ],
   "metadata": {
    "collapsed": false,
    "ExecuteTime": {
     "start_time": "2024-02-05T00:11:24.184578Z",
     "end_time": "2024-02-05T00:11:24.185954Z"
    }
   }
  },
  {
   "cell_type": "markdown",
   "source": [
    "### Problem 1-3\n",
    "\n",
    "Show the first 10 rows of the `wine_df` converted in problem 1-2 in the Notebook. (*Hints are [here](https://pandas.pydata.org/docs/reference/api/pandas.DataFrame.head.html))"
   ],
   "metadata": {
    "collapsed": false
   }
  },
  {
   "cell_type": "code",
   "execution_count": null,
   "outputs": [],
   "source": [
    "# ===== Please enter your answer code below. =====\n"
   ],
   "metadata": {
    "collapsed": false,
    "ExecuteTime": {
     "start_time": "2024-02-05T00:11:24.186952Z",
     "end_time": "2024-02-05T00:11:24.187916Z"
    }
   }
  },
  {
   "cell_type": "markdown",
   "source": [
    "### Problem 1-4\n",
    "\n",
    "Check the number of rows and columns in `wine_df`. (*Hints are [here](https://pandas.pydata.org/docs/reference/api/pandas.DataFrame.shape.html))"
   ],
   "metadata": {
    "collapsed": false
   }
  },
  {
   "cell_type": "code",
   "execution_count": null,
   "outputs": [],
   "source": [
    "# ===== Please enter your answer code below. =====\n"
   ],
   "metadata": {
    "collapsed": false,
    "ExecuteTime": {
     "start_time": "2024-02-05T00:11:24.188777Z",
     "end_time": "2024-02-05T00:11:24.189875Z"
    }
   }
  },
  {
   "cell_type": "markdown",
   "source": [
    "### Problem 1-5\n",
    "\n",
    "Check the list of column names in `wine_df`. (*Hints are [here](https://pandas.pydata.org/docs/reference/api/pandas.DataFrame.columns.html))"
   ],
   "metadata": {
    "collapsed": false
   }
  },
  {
   "cell_type": "code",
   "execution_count": null,
   "outputs": [],
   "source": [
    "# ===== Please enter your answer code below. =====\n"
   ],
   "metadata": {
    "collapsed": false,
    "ExecuteTime": {
     "start_time": "2024-02-05T00:11:24.192618Z",
     "end_time": "2024-02-05T00:11:24.194118Z"
    }
   }
  },
  {
   "cell_type": "markdown",
   "source": [
    "### Problem 1-6\n",
    "\n",
    "Extract the column `alcohol` from the `wine_df`."
   ],
   "metadata": {
    "collapsed": false
   }
  },
  {
   "cell_type": "code",
   "execution_count": null,
   "outputs": [],
   "source": [
    "# ===== Please enter your answer code below. =====\n"
   ],
   "metadata": {
    "collapsed": false,
    "ExecuteTime": {
     "start_time": "2024-02-05T00:11:24.194756Z",
     "end_time": "2024-02-05T00:11:24.232634Z"
    }
   }
  },
  {
   "cell_type": "markdown",
   "source": [
    "### Problem 1-7\n",
    "\n",
    "Extract multiple columns `color_intensity` and `hue` from `wine_df`."
   ],
   "metadata": {
    "collapsed": false
   }
  },
  {
   "cell_type": "code",
   "execution_count": null,
   "outputs": [],
   "source": [
    "# ===== Please enter your answer code below. =====\n"
   ],
   "metadata": {
    "collapsed": false,
    "ExecuteTime": {
     "start_time": "2024-02-05T00:11:24.197164Z",
     "end_time": "2024-02-05T00:11:24.237470Z"
    }
   }
  },
  {
   "cell_type": "markdown",
   "source": [
    "## Problem 2: Data handling\n",
    "\n",
    "Let's practice some handling on dataframes."
   ],
   "metadata": {
    "collapsed": false
   }
  },
  {
   "cell_type": "markdown",
   "source": [
    "### Problem 2-1\n",
    "\n",
    "Extract rows from the `wine_df` with `magnesium` values greater than `100` and display them in the Notebook. (*Hints are [here](https://pandas.pydata.org/docs/reference/api/pandas.DataFrame.loc.html))\n",
    "\n",
    "Also, how many rows have `magnesium` values greater than or equal to `100`?"
   ],
   "metadata": {
    "collapsed": false
   }
  },
  {
   "cell_type": "code",
   "execution_count": null,
   "outputs": [],
   "source": [
    "# ===== Please enter your answer code below. =====\n"
   ],
   "metadata": {
    "collapsed": false,
    "ExecuteTime": {
     "start_time": "2024-02-05T00:11:24.199023Z",
     "end_time": "2024-02-05T00:11:24.237776Z"
    }
   }
  },
  {
   "cell_type": "code",
   "execution_count": null,
   "outputs": [],
   "source": [
    "# ===== Please enter your answer code below. =====\n",
    "print()"
   ],
   "metadata": {
    "collapsed": false,
    "ExecuteTime": {
     "start_time": "2024-02-05T00:11:24.201865Z",
     "end_time": "2024-02-05T00:11:24.237909Z"
    }
   }
  },
  {
   "cell_type": "markdown",
   "source": [
    "### Problem 2-2\n",
    "\n",
    "Sort the `wine_df` to `ash` values in descending order and display the top 10 rows in the Notebook. (*Hints are [here](https://pandas.pydata.org/docs/reference/api/pandas.DataFrame.sort_values.html))"
   ],
   "metadata": {
    "collapsed": false
   }
  },
  {
   "cell_type": "code",
   "execution_count": null,
   "outputs": [],
   "source": [
    "# ===== Please enter your answer code below. =====\n"
   ],
   "metadata": {
    "collapsed": false,
    "ExecuteTime": {
     "start_time": "2024-02-05T00:11:24.204418Z",
     "end_time": "2024-02-05T00:11:24.237983Z"
    }
   }
  },
  {
   "cell_type": "markdown",
   "source": [
    "### Problem 2-3\n",
    "\n",
    "Divide the `wine_df` into groups by `target` i.e. wine type and calculate the average value of `flavanoids`. (*Hints are [here](https://pandas.pydata.org/docs/reference/api/pandas.DataFrame.groupby.html))\n",
    "\n",
  "What is the target with the smallest average as a result?"
   ],
   "metadata": {
    "collapsed": false
   }
  },
  {
   "cell_type": "code",
   "execution_count": null,
   "outputs": [],
   "source": [
    "# Add new column, target, into wine_df.\n",
    "wine_df['target'] = pd.DataFrame(wine_data.target)\n",
    "\n",
    "# ===== Please enter your answer code below. =====\n"
   ],
   "metadata": {
    "collapsed": false,
    "ExecuteTime": {
     "start_time": "2024-01-30T09:43:30.571334Z",
     "end_time": "2024-01-30T09:43:30.575884Z"
    }
   }
  },
  {
   "cell_type": "code",
   "execution_count": null,
   "outputs": [],
   "source": [
    "# ===== Please enter your answer code below. =====\n",
    "print()"
   ],
   "metadata": {
    "collapsed": false,
    "ExecuteTime": {
     "start_time": "2024-01-30T09:43:30.574242Z",
     "end_time": "2024-01-30T09:43:30.577368Z"
    }
   }
  },
  {
   "cell_type": "markdown",
   "source": [
    "### Problem 2-4\n",
    "\n",
    "For column `alcohol` in `wine_df`, create a new function `is_alcohol_high`\n",
    "\n",
    "`1` for `alcohol` >= 13%,\n",
    "`0` for `alcohol` < 13%.\n",
    "\n",
    "(*Hints are [here](https://pandas.pydata.org/docs/reference/api/pandas.DataFrame.apply.html))\n",
    "\n",
    "Once created, check the results by outputting the bottom 10 rows."
   ],
   "metadata": {
    "collapsed": false
   }
  },
  {
   "cell_type": "code",
   "execution_count": null,
   "outputs": [],
   "source": [
    "# ===== Please enter your answer code below. =====\n",
    "def is_alcohol_high(alcohol):\n",
    "    pass"
   ],
   "metadata": {
    "collapsed": false,
    "ExecuteTime": {
     "start_time": "2024-01-30T09:43:30.583478Z",
     "end_time": "2024-01-30T09:43:30.585788Z"
    }
   }
  },
  {
   "cell_type": "code",
   "execution_count": null,
   "outputs": [],
   "source": [
    "# ===== Please enter your answer code below. =====\n"
   ],
   "metadata": {
    "collapsed": false
   }
  },
  {
   "cell_type": "markdown",
   "source": [
    "## Problem 3: Statistical analysis\n",
    "\n",
    "Perform a statistical analysis on the data you have created."
   ],
   "metadata": {
    "collapsed": false
   }
  },
  {
   "cell_type": "markdown",
   "source": [
    "### Problem 3-1\n",
    "\n",
    "Use the `describe` method of the dataframe to check various statistics for numerical data. (*Hints are [here](https://pandas.pydata.org/docs/reference/api/pandas.DataFrame.describe.html))\n",
    "\n",
    "Which of the features has the largest standard deviation?"
   ],
   "metadata": {
    "collapsed": false
   }
  },
  {
   "cell_type": "code",
   "execution_count": null,
   "outputs": [],
   "source": [
    "# ===== Please enter your answer code below. =====\n"
   ],
   "metadata": {
    "collapsed": false,
    "ExecuteTime": {
     "start_time": "2024-01-30T09:43:30.587748Z",
     "end_time": "2024-01-30T09:43:30.726339Z"
    }
   }
  },
  {
   "cell_type": "code",
   "execution_count": null,
   "outputs": [],
   "source": [
    "# ===== Please enter your answer code below. =====\n",
    "print()"
   ],
   "metadata": {
    "collapsed": false,
    "ExecuteTime": {
     "start_time": "2024-01-30T09:43:30.599879Z",
     "end_time": "2024-01-30T09:43:30.726480Z"
    }
   }
  },
  {
   "cell_type": "markdown",
   "source": [
    "### Problem 3-2\n",
    "\n",
    "Use the `plot.hist` method of the dataframe to visualize the distribution of the `proline`. (*Hints are [here](https://pandas.pydata.org/docs/reference/api/pandas.DataFrame.plot.hist.html))"
   ],
   "metadata": {
    "collapsed": false
   }
  },
  {
   "cell_type": "code",
   "execution_count": null,
   "outputs": [],
   "source": [
    "# ===== Please enter your answer code below. =====\n"
   ],
   "metadata": {
    "collapsed": false,
    "ExecuteTime": {
     "start_time": "2024-01-30T09:43:30.610072Z",
     "end_time": "2024-01-30T09:43:30.903865Z"
    }
   }
  },
  {
   "cell_type": "markdown",
   "source": [
    "### Problem 3-3\n",
    "\n",
    "Use the `plot.scatter` method of the dataframe to visualize the distribution of `total_phenols`, `flavanoids`. (*Hints are [here](https://pandas.pydata.org/docs/reference/api/pandas.DataFrame.plot.scatter.html))\n",
    "\n",
    "What do you think you can say as a result of visualization?"
   ],
   "metadata": {
    "collapsed": false
   }
  },
  {
   "cell_type": "code",
   "execution_count": null,
   "outputs": [],
   "source": [
    "# ===== Please enter your answer code below. =====\n"
   ],
   "metadata": {
    "collapsed": false,
    "ExecuteTime": {
     "start_time": "2024-01-30T09:43:30.783235Z",
     "end_time": "2024-01-30T09:43:31.033982Z"
    }
   }
  },
  {
   "cell_type": "code",
   "execution_count": null,
   "outputs": [],
   "source": [
    "# ===== Please enter your answer code below. =====\n",
    "print()"
   ],
   "metadata": {
    "collapsed": false,
    "ExecuteTime": {
     "start_time": "2024-01-30T09:43:30.939726Z",
     "end_time": "2024-01-30T09:43:31.038417Z"
    }
   }
  },
  {
   "cell_type": "markdown",
   "source": [
    "### Problem 3-4\n",
    "\n",
    "Use the `corr` method of the dataframe to compute the correlation coefficient for `total_phenols`, `flavanoids`. (*Hints are [here](https://pandas.pydata.org/docs/reference/api/pandas.DataFrame.corr.html))"
   ],
   "metadata": {
    "collapsed": false
   }
  },
  {
   "cell_type": "code",
   "execution_count": null,
   "outputs": [],
   "source": [
    "# ===== Please enter your answer code below. =====\n"
   ],
   "metadata": {
    "collapsed": false,
    "ExecuteTime": {
     "start_time": "2024-01-30T09:43:30.946018Z",
     "end_time": "2024-01-30T09:43:31.038667Z"
    }
   }
  },
  {
   "cell_type": "markdown",
   "source": [
    "### Problem 4: Exploratory data analysis（EDA）\n",
    "\n",
    "EDA and identify features and trends in the data."
   ],
   "metadata": {
    "collapsed": false
   }
  },
  {
   "cell_type": "markdown",
   "source": [
    "### Problem 4-1\n",
    "\n",
    "Calculate the average of the feature values for each wine type `target`.\n",
    "Select two features that differ for each wine type `target`."
   ],
   "metadata": {
    "collapsed": false
   }
  },
  {
   "cell_type": "code",
   "execution_count": null,
   "outputs": [],
   "source": [
    "# ===== Please enter your answer code below. =====\n"
   ],
   "metadata": {
    "collapsed": false,
    "ExecuteTime": {
     "start_time": "2024-01-30T09:43:30.955579Z",
     "end_time": "2024-01-30T09:43:31.038745Z"
    }
   }
  },
  {
   "cell_type": "code",
   "execution_count": null,
   "outputs": [],
   "source": [
    "# ===== Please enter your answer code below. =====\n",
    "print()\n",
    "print()"
   ],
   "metadata": {
    "collapsed": false,
    "ExecuteTime": {
     "start_time": "2024-01-30T09:43:30.960252Z",
     "end_time": "2024-01-30T09:43:31.038809Z"
    }
   }
  },
  {
   "cell_type": "markdown",
   "source": [
    "### Problem 4-2\n",
    "\n",
    "Use a scatter plot to see if the two features selected in Problem 4-1 can successfully classify the type of wine.\n",
    "Here we will use `seaborn`'s `scatterplot` to draw. (*Hints are [here](https://seaborn.pydata.org/generated/seaborn.scatterplot.html))"
   ],
   "metadata": {
    "collapsed": false
   }
  },
  {
   "cell_type": "code",
   "execution_count": null,
   "outputs": [],
   "source": [
    "# ===== Please enter your answer code below. =====\n"
   ],
   "metadata": {
    "collapsed": false,
    "ExecuteTime": {
     "start_time": "2024-01-30T09:43:30.965521Z",
     "end_time": "2024-01-30T09:43:31.234996Z"
    }
   }
  },
  {
   "cell_type": "code",
   "execution_count": null,
   "outputs": [],
   "source": [],
   "metadata": {
    "collapsed": false,
    "ExecuteTime": {
     "start_time": "2024-01-30T09:43:31.143084Z",
     "end_time": "2024-01-30T09:43:31.235216Z"
    }
   }
  }
 ],
 "metadata": {
  "kernelspec": {
   "display_name": "Python 3 (ipykernel)",
   "language": "python",
   "name": "python3"
  },
  "language_info": {
   "codemirror_mode": {
    "name": "ipython",
    "version": 3
   },
   "file_extension": ".py",
   "mimetype": "text/x-python",
   "name": "python",
   "nbconvert_exporter": "python",
   "pygments_lexer": "ipython3",
   "version": "3.10.11"
  }
 },
 "nbformat": 4,
 "nbformat_minor": 5
}
