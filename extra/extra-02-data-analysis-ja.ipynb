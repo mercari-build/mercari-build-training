{
 "cells": [
  {
   "cell_type": "markdown",
   "source": [
    "# Extra2 データ分析"
   ],
   "metadata": {
    "collapsed": false
   }
  },
  {
   "cell_type": "code",
   "execution_count": null,
   "outputs": [],
   "source": [
    "# 演習に必要なライブラリのインストール\n",
    "!pip install matplotlib\n",
    "!pip install pandas\n",
    "!pip install scikit-learn\n",
    "!pip install seaborn\n",
    "\n",
    "import pprint\n",
    "from matplotlib import pyplot as plt\n",
    "%matplotlib inline\n",
    "import pandas as pd\n",
    "import seaborn as sns\n",
    "from sklearn import datasets"
   ],
   "metadata": {
    "collapsed": false,
    "ExecuteTime": {
     "start_time": "2024-01-30T09:43:27.405571Z",
     "end_time": "2024-01-30T09:43:30.499336Z"
    }
   }
  },
  {
   "cell_type": "markdown",
   "source": [
    "## 問題1 データ読み込み\n",
    "\n",
    "今回の演習では UCI Machine Learning Repository が提供している Wine のデータセットを使用します。[Ref](https://archive.ics.uci.edu/dataset/109/wine)\n",
    "このデータセットはイタリアの同じ地域で栽培され、3つの異なる品種に由来するワインの化学分析の結果です。\n",
    "\n",
    "なおデータ定義は以下の通りです。"
   ],
   "metadata": {
    "collapsed": false
   }
  },
  {
   "cell_type": "markdown",
   "source": [
    "### target\n",
    "\n",
    "| 変数名    | 定義     |\n",
    "|--------|--------|\n",
    "| target | ワインの種類 |"
   ],
   "metadata": {
    "collapsed": false
   }
  },
  {
   "cell_type": "markdown",
   "source": [
    "### feature_names\n",
    "\n",
    "| 変数名                          | 定義                            |\n",
    "|------------------------------|-------------------------------|\n",
    "| alcohol                      | アルコール濃度                       |\n",
    "| malic_acid                   | リンゴ酸濃度                        |\n",
    "| ash                          | 灰分濃度                          |\n",
    "| alcalinity_of_ash            | 灰のアルカリ性                       |\n",
    "| magnesium                    | マグネシウム量                       |\n",
    "| total_phenol                 | フェノール量                        |\n",
    "| flavanoids                   | フラバノイド量                       |\n",
    "| nonflavanoid_phenols         | 非フラバノイドフェノール類の量               |\n",
    "| proanthocyanins              | プロアントシアニン                     |\n",
    "| color_intensity              | 色の強度                          |\n",
    "| hue                          | 色調                            |\n",
    "| od280/OD315_of_diluted wines | 薄めたワインの280nmと315nmの波長の光に対する濁度 |\n",
    "| proline                      | プロリン量                         |\n",
    "\n",
    "ワインの味と成分についての[参考資料](https://www.jstage.jst.go.jp/article/jbrewsocjapan1915/75/8/75_8_631/_pdf/-char/ja)"
   ],
   "metadata": {
    "collapsed": false
   }
  },
  {
   "cell_type": "markdown",
   "source": [
    "### Wine データセットの読み込み\n",
    "\n",
    "Wine データセットは上で `import` した `sklearn.datasets` に格納されています。\n",
    "`sklearn.datasets` からデータセットを読み込むには次のコードを実行します。[Ref](https://scikit-learn.org/stable/modules/generated/sklearn.datasets.load_wine.html)"
   ],
   "metadata": {
    "collapsed": false
   }
  },
  {
   "cell_type": "code",
   "execution_count": null,
   "outputs": [],
   "source": [
    "wine_data = datasets.load_wine()"
   ],
   "metadata": {
    "collapsed": false,
    "ExecuteTime": {
     "start_time": "2024-01-30T09:43:30.500653Z",
     "end_time": "2024-01-30T09:43:30.506148Z"
    }
   }
  },
  {
   "cell_type": "markdown",
   "source": [
    "実際に読み込んだデータの中身を見ていきましょう。\n",
    "`Python` の標準ライブラリである `pprint` モジュールを使うと、リスト型や辞書型などのオブジェクトを、整形してきれいに表示できます。[Ref](https://docs.python.org/3/library/pprint.html#module-pprint)"
   ],
   "metadata": {
    "collapsed": false
   }
  },
  {
   "cell_type": "code",
   "execution_count": null,
   "outputs": [],
   "source": [
    "pprint.pprint(wine_data)"
   ],
   "metadata": {
    "collapsed": false,
    "ExecuteTime": {
     "start_time": "2024-01-30T09:43:30.506661Z",
     "end_time": "2024-01-30T09:43:30.511681Z"
    }
   }
  },
  {
   "cell_type": "markdown",
   "source": [
    "Wine データセットの詳細、data、特徴量名などが辞書型で格納されていることが分かります。"
   ],
   "metadata": {
    "collapsed": false
   }
  },
  {
   "cell_type": "markdown",
   "source": [
    "### 問題1-1\n",
    "\n",
    "上で読み込んだデータセット `wine_data` から `data` のみを抽出して、出力して下さい。(※ヒントは[こちら](https://docs.python.org/3/tutorial/datastructures.html#dictionaries))"
   ],
   "metadata": {
    "collapsed": false
   }
  },
  {
   "cell_type": "code",
   "execution_count": null,
   "outputs": [],
   "source": [
    "# ===== 以下に解答のコードを入力して下さい =====\n"
   ],
   "metadata": {
    "collapsed": false,
    "ExecuteTime": {
     "start_time": "2024-01-30T09:43:30.513464Z",
     "end_time": "2024-01-30T09:43:30.516460Z"
    }
   }
  },
  {
   "cell_type": "markdown",
   "source": [
    "### 問題1-2\n",
    "\n",
    "問題1-1 で読み込んだデータを pandas の dataframe に変換して下さい。その際変数名は `wine_df`、カラム名は `wine_data.feature_names` を使用して下さい。(※ヒントは[こちら](https://pandas.pydata.org/docs/reference/api/pandas.DataFrame.html))"
   ],
   "metadata": {
    "collapsed": false
   }
  },
  {
   "cell_type": "code",
   "execution_count": null,
   "outputs": [],
   "source": [
    "# ===== 以下に解答のコードを入力して下さい =====\n",
    "wine_df = None"
   ],
   "metadata": {
    "collapsed": false,
    "ExecuteTime": {
     "start_time": "2024-01-30T09:43:30.517691Z",
     "end_time": "2024-01-30T09:43:30.519707Z"
    }
   }
  },
  {
   "cell_type": "markdown",
   "source": [
    "### 問題1-3\n",
    "\n",
    "問題1-2 で変換した `wine_df` について、上から10行を Notebook 上に表示してみましょう。(※ヒントは[こちら](https://pandas.pydata.org/docs/reference/api/pandas.DataFrame.head.html))"
   ],
   "metadata": {
    "collapsed": false
   }
  },
  {
   "cell_type": "code",
   "execution_count": null,
   "outputs": [],
   "source": [
    "# ===== 以下に解答のコードを入力して下さい =====\n"
   ],
   "metadata": {
    "collapsed": false,
    "ExecuteTime": {
     "start_time": "2024-01-30T09:43:30.528285Z",
     "end_time": "2024-01-30T09:43:30.572231Z"
    }
   }
  },
  {
   "cell_type": "markdown",
   "source": [
    "### 問題1-4\n",
    "\n",
    "`wine_df` の行数、列数を確認しましょう。(※ヒントは[こちら](https://pandas.pydata.org/docs/reference/api/pandas.DataFrame.shape.html))"
   ],
   "metadata": {
    "collapsed": false
   }
  },
  {
   "cell_type": "code",
   "execution_count": null,
   "outputs": [],
   "source": [
    "# ===== 以下に解答のコードを入力して下さい =====\n"
   ],
   "metadata": {
    "collapsed": false,
    "ExecuteTime": {
     "start_time": "2024-01-30T09:43:30.531643Z",
     "end_time": "2024-01-30T09:43:30.572417Z"
    }
   }
  },
  {
   "cell_type": "markdown",
   "source": [
    "### 問題1-5\n",
    "\n",
    "`wine_df` の列名の一覧を確認しましょう。(※ヒントは[こちら](https://pandas.pydata.org/docs/reference/api/pandas.DataFrame.columns.html))"
   ],
   "metadata": {
    "collapsed": false
   }
  },
  {
   "cell_type": "code",
   "execution_count": null,
   "outputs": [],
   "source": [
    "# ===== 以下に解答のコードを入力して下さい =====\n"
   ],
   "metadata": {
    "collapsed": false,
    "ExecuteTime": {
     "start_time": "2024-01-30T09:43:30.534718Z",
     "end_time": "2024-01-30T09:43:30.572551Z"
    }
   }
  },
  {
   "cell_type": "markdown",
   "source": [
    "### 問題1-6\n",
    "\n",
    "`wine_df` から、列 `alcohol` を取得してみましょう。"
   ],
   "metadata": {
    "collapsed": false
   }
  },
  {
   "cell_type": "code",
   "execution_count": null,
   "outputs": [],
   "source": [
    "# ===== 以下に解答のコードを入力して下さい =====\n"
   ],
   "metadata": {
    "collapsed": false,
    "ExecuteTime": {
     "start_time": "2024-01-30T09:43:30.538581Z",
     "end_time": "2024-01-30T09:43:30.572751Z"
    }
   }
  },
  {
   "cell_type": "markdown",
   "source": [
    "### 問題1-7\n",
    "\n",
    "`wine_df` から、列 `color_intensity`, `hue` を取得してみましょう。"
   ],
   "metadata": {
    "collapsed": false
   }
  },
  {
   "cell_type": "code",
   "execution_count": null,
   "outputs": [],
   "source": [
    "# ===== 以下に解答のコードを入力して下さい =====\n"
   ],
   "metadata": {
    "collapsed": false,
    "ExecuteTime": {
     "start_time": "2024-01-30T09:43:30.544578Z",
     "end_time": "2024-01-30T09:43:30.572877Z"
    }
   }
  },
  {
   "cell_type": "markdown",
   "source": [
    "## 問題2 データ操作\n",
    "\n",
    "dataframe に対する操作を実践してみましょう。"
   ],
   "metadata": {
    "collapsed": false
   }
  },
  {
   "cell_type": "markdown",
   "source": [
    "### 問題2-1\n",
    "\n",
    "`wine_df` から `magnesium` の値が `100` 以上の行を抽出して、Notebook に表示してみましょう。(※ヒントは[こちら](https://pandas.pydata.org/docs/reference/api/pandas.DataFrame.loc.html))\n",
    "\n",
    "また `magnesium` の値が `100` 以上のものはいくつありますか？"
   ],
   "metadata": {
    "collapsed": false
   }
  },
  {
   "cell_type": "code",
   "execution_count": null,
   "outputs": [],
   "source": [
    "# ===== 以下に解答のコードを入力して下さい =====\n"
   ],
   "metadata": {
    "collapsed": false,
    "ExecuteTime": {
     "start_time": "2024-01-30T09:43:30.555459Z",
     "end_time": "2024-01-30T09:43:30.572958Z"
    }
   }
  },
  {
   "cell_type": "code",
   "execution_count": null,
   "outputs": [],
   "source": [
    "# ===== 以下に解答のコードを入力して下さい =====\n",
    "print()"
   ],
   "metadata": {
    "collapsed": false,
    "ExecuteTime": {
     "start_time": "2024-01-30T09:43:30.558276Z",
     "end_time": "2024-01-30T09:43:30.573023Z"
    }
   }
  },
  {
   "cell_type": "markdown",
   "source": [
    "### 問題2-2\n",
    "\n",
    "`wine_df` から `ash` の値の降順で並べ替え、上から10行を Notebook に表示してみましょう。(※ヒントは[こちら](https://pandas.pydata.org/docs/reference/api/pandas.DataFrame.sort_values.html))"
   ],
   "metadata": {
    "collapsed": false
   }
  },
  {
   "cell_type": "code",
   "execution_count": null,
   "outputs": [],
   "source": [
    "# ===== 以下に解答のコードを入力して下さい =====\n"
   ],
   "metadata": {
    "collapsed": false,
    "ExecuteTime": {
     "start_time": "2024-01-30T09:43:30.560559Z",
     "end_time": "2024-01-30T09:43:30.573093Z"
    }
   }
  },
  {
   "cell_type": "markdown",
   "source": [
    "### 問題2-3\n",
    "\n",
    "`wine_df` を `target` すなわちワインの種類によってグループに分け、`flavanoids` の平均値を計算しましょう。(※ヒントは[こちら](https://pandas.pydata.org/docs/reference/api/pandas.DataFrame.groupby.html))\n",
    "\n",
    "またその結果、平均値が一番小さい `target` はどれですか？"
   ],
   "metadata": {
    "collapsed": false
   }
  },
  {
   "cell_type": "code",
   "execution_count": null,
   "outputs": [],
   "source": [
    "# wine_df に 新しい列 target を追加する\n",
    "wine_df['target'] = pd.DataFrame(wine_data.target)\n",
    "\n",
    "# ===== 以下に解答のコードを入力して下さい =====\n"
   ],
   "metadata": {
    "collapsed": false,
    "ExecuteTime": {
     "start_time": "2024-01-30T09:43:30.571334Z",
     "end_time": "2024-01-30T09:43:30.575884Z"
    }
   }
  },
  {
   "cell_type": "code",
   "execution_count": null,
   "outputs": [],
   "source": [
    "# ===== 以下に解答のコードを入力して下さい =====\n",
    "print()"
   ],
   "metadata": {
    "collapsed": false,
    "ExecuteTime": {
     "start_time": "2024-01-30T09:43:30.574242Z",
     "end_time": "2024-01-30T09:43:30.577368Z"
    }
   }
  },
  {
   "cell_type": "markdown",
   "source": [
    "### 問題2-4\n",
    "\n",
    "`wine_df` の列 `alcohol` に対して、\n",
    "\n",
    "13%以上は `1`\n",
    "13%未満は `0`\n",
    "\n",
    "と出力する関数 `is_alcohol_high` を適用し、新しく `alcohol_high` という変数を作成してみましょう。(※ヒントは[こちら](https://pandas.pydata.org/docs/reference/api/pandas.DataFrame.apply.html))\n",
    "\n",
    "作成したら、結果を下から10行出力して確認してみましょう。"
   ],
   "metadata": {
    "collapsed": false
   }
  },
  {
   "cell_type": "code",
   "execution_count": null,
   "outputs": [],
   "source": [
    "# ===== 以下に解答のコードを入力して下さい =====\n",
    "def is_alcohol_high(alcohol):\n",
    "    pass"
   ],
   "metadata": {
    "collapsed": false,
    "ExecuteTime": {
     "start_time": "2024-01-30T09:43:30.583478Z",
     "end_time": "2024-01-30T09:43:30.585788Z"
    }
   }
  },
  {
   "cell_type": "code",
   "execution_count": null,
   "outputs": [],
   "source": [
    "# ===== 以下に解答のコードを入力して下さい =====\n"
   ],
   "metadata": {
    "collapsed": false
   }
  },
  {
   "cell_type": "markdown",
   "source": [
    "## 問題3 統計分析\n",
    "\n",
    "作成したデータに対して統計分析をしてみましょう。"
   ],
   "metadata": {
    "collapsed": false
   }
  },
  {
   "cell_type": "markdown",
   "source": [
    "### 問題3-1\n",
    "\n",
    "dataframe の `describe` メソッドを使用し、数値データの各種統計量を確認してみましょう。(※ヒントは[こちら](https://pandas.pydata.org/docs/reference/api/pandas.DataFrame.describe.html))\n",
    "\n",
    "特徴量の中で一番標準偏差が大きいものはどれですか？"
   ],
   "metadata": {
    "collapsed": false
   }
  },
  {
   "cell_type": "code",
   "execution_count": null,
   "outputs": [],
   "source": [
    "# ===== 以下に解答のコードを入力して下さい =====\n"
   ],
   "metadata": {
    "collapsed": false,
    "ExecuteTime": {
     "start_time": "2024-01-30T09:43:30.587748Z",
     "end_time": "2024-01-30T09:43:30.726339Z"
    }
   }
  },
  {
   "cell_type": "code",
   "execution_count": null,
   "outputs": [],
   "source": [
    "# ===== 以下に解答のコードを入力して下さい =====\n",
    "print()"
   ],
   "metadata": {
    "collapsed": false,
    "ExecuteTime": {
     "start_time": "2024-01-30T09:43:30.599879Z",
     "end_time": "2024-01-30T09:43:30.726480Z"
    }
   }
  },
  {
   "cell_type": "markdown",
   "source": [
    "### 問題3-2\n",
    "\n",
    "dataframeの `plot.hist` メソッドを使用し、`proline` の分布を可視化しましょう。(※ヒントは[こちら](https://pandas.pydata.org/docs/reference/api/pandas.DataFrame.plot.hist.html))"
   ],
   "metadata": {
    "collapsed": false
   }
  },
  {
   "cell_type": "code",
   "execution_count": null,
   "outputs": [],
   "source": [
    "# ===== 以下に解答のコードを入力して下さい =====\n"
   ],
   "metadata": {
    "collapsed": false,
    "ExecuteTime": {
     "start_time": "2024-01-30T09:43:30.610072Z",
     "end_time": "2024-01-30T09:43:30.903865Z"
    }
   }
  },
  {
   "cell_type": "markdown",
   "source": [
    "### 問題3-3\n",
    "\n",
    "dataframeの `plot.scatter` メソッドを使用し、`total_phenols`, `flavanoids` の分布を可視化しましょう。(※ヒントは[こちら](https://pandas.pydata.org/docs/reference/api/pandas.DataFrame.plot.scatter.html))\n",
    "\n",
    "また可視化した結果、どんなことが言えそうですか？"
   ],
   "metadata": {
    "collapsed": false
   }
  },
  {
   "cell_type": "code",
   "execution_count": null,
   "outputs": [],
   "source": [
    "# ===== 以下に解答のコードを入力して下さい =====\n"
   ],
   "metadata": {
    "collapsed": false,
    "ExecuteTime": {
     "start_time": "2024-01-30T09:43:30.783235Z",
     "end_time": "2024-01-30T09:43:31.033982Z"
    }
   }
  },
  {
   "cell_type": "code",
   "execution_count": null,
   "outputs": [],
   "source": [
    "# ===== 以下に解答のコードを入力して下さい =====\n",
    "print()"
   ],
   "metadata": {
    "collapsed": false,
    "ExecuteTime": {
     "start_time": "2024-01-30T09:43:30.939726Z",
     "end_time": "2024-01-30T09:43:31.038417Z"
    }
   }
  },
  {
   "cell_type": "markdown",
   "source": [
    "### 問題3-4\n",
    "\n",
    "dataframeの `corr` メソッドを使用し、`total_phenols`, `flavanoids` の相関係数を計算しましょう。(※ヒントは[こちら](https://pandas.pydata.org/docs/reference/api/pandas.DataFrame.corr.html))"
   ],
   "metadata": {
    "collapsed": false
   }
  },
  {
   "cell_type": "code",
   "execution_count": null,
   "outputs": [],
   "source": [
    "# ===== 以下に解答のコードを入力して下さい =====\n"
   ],
   "metadata": {
    "collapsed": false,
    "ExecuteTime": {
     "start_time": "2024-01-30T09:43:30.946018Z",
     "end_time": "2024-01-30T09:43:31.038667Z"
    }
   }
  },
  {
   "cell_type": "markdown",
   "source": [
    "### 問題4 探索的データ解析（EDA）\n",
    "\n",
    "EDAを行い、データの特徴や傾向を特定していきましょう。"
   ],
   "metadata": {
    "collapsed": false
   }
  },
  {
   "cell_type": "markdown",
   "source": [
    "### 問題4-1\n",
    "\n",
    "ワインの種類 `target` ごとに特徴量の平均を算出してみましょう。\n",
    "またその結果、ワインの種類 `target` ごとに差がある特徴量を2つ選択して下さい。"
   ],
   "metadata": {
    "collapsed": false
   }
  },
  {
   "cell_type": "code",
   "execution_count": null,
   "outputs": [],
   "source": [
    "# ===== 以下に解答のコードを入力して下さい =====\n"
   ],
   "metadata": {
    "collapsed": false,
    "ExecuteTime": {
     "start_time": "2024-01-30T09:43:30.955579Z",
     "end_time": "2024-01-30T09:43:31.038745Z"
    }
   }
  },
  {
   "cell_type": "code",
   "execution_count": null,
   "outputs": [],
   "source": [
    "# ===== 以下に解答のコードを入力して下さい =====\n",
    "print()\n",
    "print()"
   ],
   "metadata": {
    "collapsed": false,
    "ExecuteTime": {
     "start_time": "2024-01-30T09:43:30.960252Z",
     "end_time": "2024-01-30T09:43:31.038809Z"
    }
   }
  },
  {
   "cell_type": "markdown",
   "source": [
    "### 問題4-2\n",
    "\n",
    "問題4-1 で選択した２つの特徴量で、上手くワインの種類が分類できそうかを散布図を用いて確認してみましょう。\n",
    "\n",
    "ここでは `seaborn` の `scatterplot` を用いて描画してみましょう。(※ヒントは[こちら](https://seaborn.pydata.org/generated/seaborn.scatterplot.html))"
   ],
   "metadata": {
    "collapsed": false
   }
  },
  {
   "cell_type": "code",
   "execution_count": null,
   "outputs": [],
   "source": [
    "# ===== 以下に解答のコードを入力して下さい =====\n"
   ],
   "metadata": {
    "collapsed": false,
    "ExecuteTime": {
     "start_time": "2024-01-30T09:43:30.965521Z",
     "end_time": "2024-01-30T09:43:31.234996Z"
    }
   }
  },
  {
   "cell_type": "code",
   "execution_count": null,
   "outputs": [],
   "source": [],
   "metadata": {
    "collapsed": false,
    "ExecuteTime": {
     "start_time": "2024-01-30T09:43:31.143084Z",
     "end_time": "2024-01-30T09:43:31.235216Z"
    }
   }
  }
 ],
 "metadata": {
  "kernelspec": {
   "display_name": "Python 3 (ipykernel)",
   "language": "python",
   "name": "python3"
  },
  "language_info": {
   "codemirror_mode": {
    "name": "ipython",
    "version": 3
   },
   "file_extension": ".py",
   "mimetype": "text/x-python",
   "name": "python",
   "nbconvert_exporter": "python",
   "pygments_lexer": "ipython3",
   "version": "3.10.11"
  }
 },
 "nbformat": 4,
 "nbformat_minor": 5
}
