{
 "cells": [
  {
   "cell_type": "markdown",
   "metadata": {
    "collapsed": false
   },
   "source": [
    "# Extra1 Data Analysis"
   ]
  },
  {
   "cell_type": "code",
   "execution_count": null,
   "metadata": {
    "ExecuteTime": {
     "end_time": "2024-02-05T00:11:24.173651Z",
     "start_time": "2024-02-05T00:11:20.876737Z"
    },
    "collapsed": false
   },
   "outputs": [],
   "source": [
    "# install libraries for extra contents\n",
    "!pip install matplotlib\n",
    "!pip install pandas\n",
    "!pip install scikit-learn\n",
    "!pip install seaborn\n",
    "\n",
    "import pprint\n",
    "from matplotlib import pyplot as plt\n",
    "%matplotlib inline\n",
    "import pandas as pd\n",
    "import seaborn as sns\n",
    "from sklearn import datasets"
   ]
  },
  {
   "cell_type": "markdown",
   "metadata": {
    "collapsed": false
   },
   "source": [
    "## Problem 1: Import dataset\n",
    "\n",
    "For this exercise, we will use the Wine dataset provided by the UCI Machine Learning Repository.[Ref](https://archive.ics.uci.edu/dataset/109/wine)\n",
    "This dataset is the result of chemical analysis of wines grown in the same region of Italy and derived from three different varietals.\n",
    "\n",
    "The data definitions are as follows:"
   ]
  },
  {
   "cell_type": "markdown",
   "metadata": {
    "collapsed": false
   },
   "source": [
    "### target\n",
    "\n",
    "| variable name | definition   |\n",
    "|---------------|--------------|\n",
    "| target        | Type of Wine |"
   ]
  },
  {
   "cell_type": "markdown",
   "metadata": {
    "collapsed": false
   },
   "source": [
    "### feature_names\n",
    "\n",
    "| variable name                | definition                                                             |\n",
    "|------------------------------|------------------------------------------------------------------------|\n",
    "| alcohol                      | alcohol concentration                                                  |\n",
    "| malic_acid                   | malic acid concentration                                               |\n",
    "| ash                          | ash concentration                                                      |\n",
    "| alcalinity_of_ash            | alkalinity of ash                                                      |\n",
    "| magnesium                    | amount of magnesium                                                    |\n",
    "| total_phenol                 | total amount of phenol                                                 |\n",
    "| flavanoids                   | amount of flavanoids                                                   |\n",
    "| nonflavanoid_phenols         | amount of non-flavanoid phenols                                        |\n",
    "| proanthocyanins              | amount of proanthocyanin                                               |\n",
    "| color_intensity              | color intensity                                                        |\n",
    "| hue                          | hue                                                                    |\n",
    "| od280/OD315_of_diluted wines | Turbidity of diluted wine to light at wavelengths of 280 nm and 315 nm |\n",
    "| proline                      | amount of proline                                                      |\n",
    "\n",
    "[Reference material](https://www.jstage.jst.go.jp/article/jbrewsocjapan1915/75/8/75_8_631/_pdf/-char/ja) on the taste and composition of wine"
   ]
  },
  {
   "cell_type": "markdown",
   "metadata": {
    "collapsed": false
   },
   "source": [
    "### Import wine dataset\n",
    "\n",
    "Wine datasets are stored in the `sklearn.datasets` file `import` above.\n",
    "To load a dataset from `sklearn.datasets`, run the following code. [Ref](https://scikit-learn.org/stable/modules/generated/sklearn.datasets.load_wine.html)"
   ]
  },
  {
   "cell_type": "code",
   "execution_count": null,
   "metadata": {
    "ExecuteTime": {
     "end_time": "2024-02-05T00:11:24.177327Z",
     "start_time": "2024-02-05T00:11:24.175049Z"
    },
    "collapsed": false
   },
   "outputs": [],
   "source": [
    "wine_data = datasets.load_wine()"
   ]
  },
  {
   "cell_type": "markdown",
   "metadata": {
    "collapsed": false
   },
   "source": [
    "Let's look at the actual contents of the loaded data.\n",
    "The `pprint` module, which is part of the `Python` standard library, allows you to display objects of type list, dictionary, etc. in a nicely formatted manner. [Ref](https://docs.python.org/3/library/pprint.html#module-pprint)"
   ]
  },
  {
   "cell_type": "code",
   "execution_count": null,
   "metadata": {
    "ExecuteTime": {
     "end_time": "2024-02-05T00:11:24.182037Z",
     "start_time": "2024-02-05T00:11:24.179896Z"
    },
    "collapsed": false
   },
   "outputs": [],
   "source": [
    "pprint.pprint(wine_data)"
   ]
  },
  {
   "cell_type": "markdown",
   "metadata": {
    "collapsed": false
   },
   "source": [
    "You can see that the details of the Wine dataset, data, feature names, etc. are stored in a dictionary type."
   ]
  },
  {
   "cell_type": "markdown",
   "metadata": {
    "collapsed": false
   },
   "source": [
    "### Problem 1-1\n",
    "\n",
    "Extract and output only `data` from the data set `wine_data` read above. (*Hints are [here](https://docs.python.org/3/tutorial/datastructures.html#dictionaries))"
   ]
  },
  {
   "cell_type": "code",
   "execution_count": null,
   "metadata": {
    "ExecuteTime": {
     "end_time": "2024-02-05T00:11:24.183614Z",
     "start_time": "2024-02-05T00:11:24.182267Z"
    },
    "collapsed": false
   },
   "outputs": [],
   "source": [
    "# ===== Please enter your answer code below. =====\n"
   ]
  },
  {
   "cell_type": "markdown",
   "metadata": {
    "collapsed": false
   },
   "source": [
    "### Problem 1-2\n",
    "\n",
    "Convert the data read in problem 1-1 into a pandas dataframe. Then, use `wine_df` for the variable name and `wine_data.feature_names` for the column name. (*Hints are [here](https://pandas.pydata.org/docs/reference/api/pandas.DataFrame.html))"
   ]
  },
  {
   "cell_type": "code",
   "execution_count": null,
   "metadata": {
    "ExecuteTime": {
     "end_time": "2024-02-05T00:11:24.185954Z",
     "start_time": "2024-02-05T00:11:24.184578Z"
    },
    "collapsed": false
   },
   "outputs": [],
   "source": [
    "# ===== Please enter your answer code below. =====\n",
    "wine_df = None"
   ]
  },
  {
   "cell_type": "markdown",
   "metadata": {
    "collapsed": false
   },
   "source": [
    "### Problem 1-3\n",
    "\n",
    "Show the first 10 rows of the `wine_df` converted in problem 1-2 in the Notebook. (*Hints are [here](https://pandas.pydata.org/docs/reference/api/pandas.DataFrame.head.html))"
   ]
  },
  {
   "cell_type": "code",
   "execution_count": null,
   "metadata": {
    "ExecuteTime": {
     "end_time": "2024-02-05T00:11:24.187916Z",
     "start_time": "2024-02-05T00:11:24.186952Z"
    },
    "collapsed": false
   },
   "outputs": [],
   "source": [
    "# ===== Please enter your answer code below. =====\n"
   ]
  },
  {
   "cell_type": "markdown",
   "metadata": {
    "collapsed": false
   },
   "source": [
    "### Problem 1-4\n",
    "\n",
    "Check the number of rows and columns in `wine_df`. (*Hints are [here](https://pandas.pydata.org/docs/reference/api/pandas.DataFrame.shape.html))"
   ]
  },
  {
   "cell_type": "code",
   "execution_count": null,
   "metadata": {
    "ExecuteTime": {
     "end_time": "2024-02-05T00:11:24.189875Z",
     "start_time": "2024-02-05T00:11:24.188777Z"
    },
    "collapsed": false
   },
   "outputs": [],
   "source": [
    "# ===== Please enter your answer code below. =====\n"
   ]
  },
  {
   "cell_type": "markdown",
   "metadata": {
    "collapsed": false
   },
   "source": [
    "### Problem 1-5\n",
    "\n",
    "Check the list of column names in `wine_df`. (*Hints are [here](https://pandas.pydata.org/docs/reference/api/pandas.DataFrame.columns.html))"
   ]
  },
  {
   "cell_type": "code",
   "execution_count": null,
   "metadata": {
    "ExecuteTime": {
     "end_time": "2024-02-05T00:11:24.194118Z",
     "start_time": "2024-02-05T00:11:24.192618Z"
    },
    "collapsed": false
   },
   "outputs": [],
   "source": [
    "# ===== Please enter your answer code below. =====\n"
   ]
  },
  {
   "cell_type": "markdown",
   "metadata": {
    "collapsed": false
   },
   "source": [
    "### Problem 1-6\n",
    "\n",
    "Extract the column `alcohol` from the `wine_df`."
   ]
  },
  {
   "cell_type": "code",
   "execution_count": null,
   "metadata": {
    "ExecuteTime": {
     "end_time": "2024-02-05T00:11:24.232634Z",
     "start_time": "2024-02-05T00:11:24.194756Z"
    },
    "collapsed": false
   },
   "outputs": [],
   "source": [
    "# ===== Please enter your answer code below. =====\n"
   ]
  },
  {
   "cell_type": "markdown",
   "metadata": {
    "collapsed": false
   },
   "source": [
    "### Problem 1-7\n",
    "\n",
    "Extract multiple columns `color_intensity` and `hue` from `wine_df`."
   ]
  },
  {
   "cell_type": "code",
   "execution_count": null,
   "metadata": {
    "ExecuteTime": {
     "end_time": "2024-02-05T00:11:24.237470Z",
     "start_time": "2024-02-05T00:11:24.197164Z"
    },
    "collapsed": false
   },
   "outputs": [],
   "source": [
    "# ===== Please enter your answer code below. =====\n"
   ]
  },
  {
   "cell_type": "markdown",
   "metadata": {
    "collapsed": false
   },
   "source": [
    "## Problem 2: Data handling\n",
    "\n",
    "Let's practice some handling on dataframes."
   ]
  },
  {
   "cell_type": "markdown",
   "metadata": {
    "collapsed": false
   },
   "source": [
    "### Problem 2-1\n",
    "\n",
    "Extract rows from the `wine_df` with `magnesium` values greater than `100` and display them in the Notebook. (*Hints are [here](https://pandas.pydata.org/docs/reference/api/pandas.DataFrame.loc.html))\n",
    "\n",
    "Also, how many rows have `magnesium` values greater than or equal to `100`?"
   ]
  },
  {
   "cell_type": "code",
   "execution_count": null,
   "metadata": {
    "ExecuteTime": {
     "end_time": "2024-02-05T00:11:24.237776Z",
     "start_time": "2024-02-05T00:11:24.199023Z"
    },
    "collapsed": false
   },
   "outputs": [],
   "source": [
    "# ===== Please enter your answer code below. =====\n"
   ]
  },
  {
   "cell_type": "code",
   "execution_count": null,
   "metadata": {
    "ExecuteTime": {
     "end_time": "2024-02-05T00:11:24.237909Z",
     "start_time": "2024-02-05T00:11:24.201865Z"
    },
    "collapsed": false
   },
   "outputs": [],
   "source": [
    "# ===== Please enter your answer code below. =====\n",
    "print()"
   ]
  },
  {
   "cell_type": "markdown",
   "metadata": {
    "collapsed": false
   },
   "source": [
    "### Problem 2-2\n",
    "\n",
    "Sort the `wine_df` to `ash` values in descending order and display the top 10 rows in the Notebook. (*Hints are [here](https://pandas.pydata.org/docs/reference/api/pandas.DataFrame.sort_values.html))"
   ]
  },
  {
   "cell_type": "code",
   "execution_count": null,
   "metadata": {
    "ExecuteTime": {
     "end_time": "2024-02-05T00:11:24.237983Z",
     "start_time": "2024-02-05T00:11:24.204418Z"
    },
    "collapsed": false
   },
   "outputs": [],
   "source": [
    "# ===== Please enter your answer code below. =====\n"
   ]
  },
  {
   "cell_type": "markdown",
   "metadata": {
    "collapsed": false
   },
   "source": [
    "### Problem 2-3\n",
    "\n",
    "Divide the `wine_df` into groups by `target` i.e. wine type and calculate the average value of `flavanoids`. (*Hints are [here](https://pandas.pydata.org/docs/reference/api/pandas.DataFrame.groupby.html))\n",
    "\n",
    "What is the target with the smallest average as a result?"
   ]
  },
  {
   "cell_type": "code",
   "execution_count": null,
   "metadata": {
    "ExecuteTime": {
     "end_time": "2024-01-30T09:43:30.575884Z",
     "start_time": "2024-01-30T09:43:30.571334Z"
    },
    "collapsed": false
   },
   "outputs": [],
   "source": [
    "# Add new column, target, into wine_df.\n",
    "wine_df['target'] = pd.DataFrame(wine_data.target)\n",
    "\n",
    "# ===== Please enter your answer code below. =====\n"
   ]
  },
  {
   "cell_type": "code",
   "execution_count": null,
   "metadata": {
    "ExecuteTime": {
     "end_time": "2024-01-30T09:43:30.577368Z",
     "start_time": "2024-01-30T09:43:30.574242Z"
    },
    "collapsed": false
   },
   "outputs": [],
   "source": [
    "# ===== Please enter your answer code below. =====\n",
    "print()"
   ]
  },
  {
   "cell_type": "markdown",
   "metadata": {
    "collapsed": false
   },
   "source": [
    "### Problem 2-4\n",
    "\n",
    "For column `alcohol` in `wine_df`, create a new function `is_alcohol_high`\n",
    "\n",
    "`1` for `alcohol` >= 13%,\n",
    "`0` for `alcohol` < 13%.\n",
    "\n",
    "(*Hints are [here](https://pandas.pydata.org/docs/reference/api/pandas.DataFrame.apply.html))\n",
    "\n",
    "Once created, check the results by outputting the bottom 10 rows."
   ]
  },
  {
   "cell_type": "code",
   "execution_count": null,
   "metadata": {
    "ExecuteTime": {
     "end_time": "2024-01-30T09:43:30.585788Z",
     "start_time": "2024-01-30T09:43:30.583478Z"
    },
    "collapsed": false
   },
   "outputs": [],
   "source": [
    "# ===== Please enter your answer code below. =====\n",
    "def is_alcohol_high(alcohol):\n",
    "    pass"
   ]
  },
  {
   "cell_type": "code",
   "execution_count": null,
   "metadata": {
    "collapsed": false
   },
   "outputs": [],
   "source": [
    "# ===== Please enter your answer code below. =====\n"
   ]
  },
  {
   "cell_type": "markdown",
   "metadata": {
    "collapsed": false
   },
   "source": [
    "## Problem 3: Statistical analysis\n",
    "\n",
    "Perform a statistical analysis on the data you have created."
   ]
  },
  {
   "cell_type": "markdown",
   "metadata": {
    "collapsed": false
   },
   "source": [
    "### Problem 3-1\n",
    "\n",
    "Use the `describe` method of the dataframe to check various statistics for numerical data. (*Hints are [here](https://pandas.pydata.org/docs/reference/api/pandas.DataFrame.describe.html))\n",
    "\n",
    "Which of the features has the largest standard deviation?"
   ]
  },
  {
   "cell_type": "code",
   "execution_count": null,
   "metadata": {
    "ExecuteTime": {
     "end_time": "2024-01-30T09:43:30.726339Z",
     "start_time": "2024-01-30T09:43:30.587748Z"
    },
    "collapsed": false
   },
   "outputs": [],
   "source": [
    "# ===== Please enter your answer code below. =====\n"
   ]
  },
  {
   "cell_type": "code",
   "execution_count": null,
   "metadata": {
    "ExecuteTime": {
     "end_time": "2024-01-30T09:43:30.726480Z",
     "start_time": "2024-01-30T09:43:30.599879Z"
    },
    "collapsed": false
   },
   "outputs": [],
   "source": [
    "# ===== Please enter your answer code below. =====\n",
    "print()"
   ]
  },
  {
   "cell_type": "markdown",
   "metadata": {
    "collapsed": false
   },
   "source": [
    "### Problem 3-2\n",
    "\n",
    "Use the `plot.hist` method of the dataframe to visualize the distribution of the `proline`. (*Hints are [here](https://pandas.pydata.org/docs/reference/api/pandas.DataFrame.plot.hist.html))"
   ]
  },
  {
   "cell_type": "code",
   "execution_count": null,
   "metadata": {
    "ExecuteTime": {
     "end_time": "2024-01-30T09:43:30.903865Z",
     "start_time": "2024-01-30T09:43:30.610072Z"
    },
    "collapsed": false
   },
   "outputs": [],
   "source": [
    "# ===== Please enter your answer code below. =====\n"
   ]
  },
  {
   "cell_type": "markdown",
   "metadata": {
    "collapsed": false
   },
   "source": [
    "### Problem 3-3\n",
    "\n",
    "Use the `plot.scatter` method of the dataframe to visualize the distribution of `total_phenols`, `flavanoids`. (*Hints are [here](https://pandas.pydata.org/docs/reference/api/pandas.DataFrame.plot.scatter.html))\n",
    "\n",
    "What do you think you can say as a result of visualization?"
   ]
  },
  {
   "cell_type": "code",
   "execution_count": null,
   "metadata": {
    "ExecuteTime": {
     "end_time": "2024-01-30T09:43:31.033982Z",
     "start_time": "2024-01-30T09:43:30.783235Z"
    },
    "collapsed": false
   },
   "outputs": [],
   "source": [
    "# ===== Please enter your answer code below. =====\n"
   ]
  },
  {
   "cell_type": "code",
   "execution_count": null,
   "metadata": {
    "ExecuteTime": {
     "end_time": "2024-01-30T09:43:31.038417Z",
     "start_time": "2024-01-30T09:43:30.939726Z"
    },
    "collapsed": false
   },
   "outputs": [],
   "source": [
    "# ===== Please enter your answer code below. =====\n",
    "print()"
   ]
  },
  {
   "cell_type": "markdown",
   "metadata": {
    "collapsed": false
   },
   "source": [
    "### Problem 3-4\n",
    "\n",
    "Use the `corr` method of the dataframe to compute the correlation coefficient for `total_phenols`, `flavanoids`. (*Hints are [here](https://pandas.pydata.org/docs/reference/api/pandas.DataFrame.corr.html))"
   ]
  },
  {
   "cell_type": "code",
   "execution_count": null,
   "metadata": {
    "ExecuteTime": {
     "end_time": "2024-01-30T09:43:31.038667Z",
     "start_time": "2024-01-30T09:43:30.946018Z"
    },
    "collapsed": false
   },
   "outputs": [],
   "source": [
    "# ===== Please enter your answer code below. =====\n"
   ]
  },
  {
   "cell_type": "markdown",
   "metadata": {
    "collapsed": false
   },
   "source": [
    "### Problem 4: Exploratory data analysis（EDA）\n",
    "\n",
    "EDA and identify features and trends in the data."
   ]
  },
  {
   "cell_type": "markdown",
   "metadata": {
    "collapsed": false
   },
   "source": [
    "### Problem 4-1\n",
    "\n",
    "Calculate the average of the feature values for each wine type `target`.\n",
    "Select two features that differ for each wine type `target`."
   ]
  },
  {
   "cell_type": "code",
   "execution_count": null,
   "metadata": {
    "ExecuteTime": {
     "end_time": "2024-01-30T09:43:31.038745Z",
     "start_time": "2024-01-30T09:43:30.955579Z"
    },
    "collapsed": false
   },
   "outputs": [],
   "source": [
    "# ===== Please enter your answer code below. =====\n"
   ]
  },
  {
   "cell_type": "code",
   "execution_count": null,
   "metadata": {
    "ExecuteTime": {
     "end_time": "2024-01-30T09:43:31.038809Z",
     "start_time": "2024-01-30T09:43:30.960252Z"
    },
    "collapsed": false
   },
   "outputs": [],
   "source": [
    "# ===== Please enter your answer code below. =====\n",
    "print()\n",
    "print()"
   ]
  },
  {
   "cell_type": "markdown",
   "metadata": {
    "collapsed": false
   },
   "source": [
    "### Problem 4-2\n",
    "\n",
    "Use a scatter plot to see if the two features selected in Problem 4-1 can successfully classify the type of wine.\n",
    "Here we will use `seaborn`'s `scatterplot` to draw. (*Hints are [here](https://seaborn.pydata.org/generated/seaborn.scatterplot.html))"
   ]
  },
  {
   "cell_type": "code",
   "execution_count": null,
   "metadata": {
    "ExecuteTime": {
     "end_time": "2024-01-30T09:43:31.234996Z",
     "start_time": "2024-01-30T09:43:30.965521Z"
    },
    "collapsed": false
   },
   "outputs": [],
   "source": [
    "# ===== Please enter your answer code below. =====\n"
   ]
  },
  {
   "cell_type": "code",
   "execution_count": null,
   "metadata": {
    "ExecuteTime": {
     "end_time": "2024-01-30T09:43:31.235216Z",
     "start_time": "2024-01-30T09:43:31.143084Z"
    },
    "collapsed": false
   },
   "outputs": [],
   "source": []
  }
 ],
 "metadata": {
  "kernelspec": {
   "display_name": "Python 3 (ipykernel)",
   "language": "python",
   "name": "python3"
  },
  "language_info": {
   "codemirror_mode": {
    "name": "ipython",
    "version": 3
   },
   "file_extension": ".py",
   "mimetype": "text/x-python",
   "name": "python",
   "nbconvert_exporter": "python",
   "pygments_lexer": "ipython3",
   "version": "3.10.11"
  }
 },
 "nbformat": 4,
 "nbformat_minor": 5
}
